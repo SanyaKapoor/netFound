{
 "cells": [
  {
   "cell_type": "markdown",
   "metadata": {
    "id": "TOhMIvYr10Ej"
   },
   "source": [
    "# Setup"
   ]
  },
  {
   "cell_type": "code",
   "execution_count": null,
   "metadata": {
    "colab": {
     "base_uri": "https://localhost:8080/"
    },
    "executionInfo": {
     "elapsed": 33975,
     "status": "ok",
     "timestamp": 1746680769103,
     "user": {
      "displayName": "Shiva",
      "userId": "03583737290382297870"
     },
     "user_tz": -330
    },
    "id": "eQQ9yoWb1-Y8",
    "outputId": "92a85c70-d895-45dc-af67-4d8e8c8ea8e1"
   },
   "outputs": [],
   "source": [
    "from google.colab import drive\n",
    "drive.mount('/content/drive')"
   ]
  },
  {
   "cell_type": "code",
   "execution_count": null,
   "metadata": {
    "colab": {
     "base_uri": "https://localhost:8080/"
    },
    "executionInfo": {
     "elapsed": 2458,
     "status": "ok",
     "timestamp": 1746680771559,
     "user": {
      "displayName": "Shiva",
      "userId": "03583737290382297870"
     },
     "user_tz": -330
    },
    "id": "3Kb64oBV2E55",
    "outputId": "dc693fc7-61f9-404e-dd1f-31ae661a7668"
   },
   "outputs": [],
   "source": [
    "cd /content/drive/MyDrive/netFound/src/train/"
   ]
  },
  {
   "cell_type": "code",
   "execution_count": null,
   "metadata": {
    "colab": {
     "base_uri": "https://localhost:8080/"
    },
    "executionInfo": {
     "elapsed": 4135,
     "status": "ok",
     "timestamp": 1746680775695,
     "user": {
      "displayName": "Shiva",
      "userId": "03583737290382297870"
     },
     "user_tz": -330
    },
    "id": "l7aQSBNf3g89",
    "outputId": "0c9ebb7d-d908-4a46-c63f-1dd5a72fe00c"
   },
   "outputs": [],
   "source": [
    "!pip install datasets"
   ]
  },
  {
   "cell_type": "code",
   "execution_count": null,
   "metadata": {
    "colab": {
     "base_uri": "https://localhost:8080/"
    },
    "executionInfo": {
     "elapsed": 6349,
     "status": "ok",
     "timestamp": 1746680782045,
     "user": {
      "displayName": "Shiva",
      "userId": "03583737290382297870"
     },
     "user_tz": -330
    },
    "id": "ceMofFWQ39-h",
    "outputId": "3bd90c77-65e6-4bd0-9c1a-0cd2d134c41a"
   },
   "outputs": [],
   "source": [
    "!pip install torchinfo"
   ]
  },
  {
   "cell_type": "code",
   "execution_count": null,
   "metadata": {
    "colab": {
     "base_uri": "https://localhost:8080/"
    },
    "executionInfo": {
     "elapsed": 4639,
     "status": "ok",
     "timestamp": 1746680786697,
     "user": {
      "displayName": "Shiva",
      "userId": "03583737290382297870"
     },
     "user_tz": -330
    },
    "id": "sNRJmdBqKT1v",
    "outputId": "44365f03-2c8e-40f6-be31-e6a15cc6f0e5"
   },
   "outputs": [],
   "source": [
    "!pip install tensorboard"
   ]
  },
  {
   "cell_type": "code",
   "execution_count": null,
   "metadata": {
    "executionInfo": {
     "elapsed": 32765,
     "status": "ok",
     "timestamp": 1746680819472,
     "user": {
      "displayName": "Shiva",
      "userId": "03583737290382297870"
     },
     "user_tz": -330
    },
    "id": "5yfR7hCF10Ek"
   },
   "outputs": [],
   "source": [
    "import warnings\n",
    "from sklearn.exceptions import UndefinedMetricWarning\n",
    "warnings.filterwarnings(\"ignore\", category=UndefinedMetricWarning)\n",
    "warnings.filterwarnings(\"ignore\", category=FutureWarning)\n",
    "\n",
    "import os\n",
    "import torch\n",
    "import torch.distributed\n",
    "import numpy as np\n",
    "import utils\n",
    "import random\n",
    "from dataclasses import field, dataclass\n",
    "from datasets.distributed import split_dataset_by_node\n",
    "from typing import Optional\n",
    "from copy import deepcopy\n",
    "from torchinfo import summary\n",
    "from torch.distributed.elastic.multiprocessing.errors import record\n",
    "\n",
    "from transformers import (\n",
    "    EvalPrediction,\n",
    "    HfArgumentParser,\n",
    "    TrainingArguments,\n",
    "    EarlyStoppingCallback,\n",
    ")\n",
    "\n",
    "from sklearn.metrics import (\n",
    "    f1_score,\n",
    "    accuracy_score,\n",
    "    precision_score,\n",
    "    recall_score,\n",
    "    top_k_accuracy_score,\n",
    "    classification_report, confusion_matrix\n",
    ")\n",
    "\n",
    "from NetFoundDataCollator import DataCollatorForFlowClassification\n",
    "from NetFoundModels import NetfoundFinetuningModel, NetfoundNoPTM\n",
    "from NetFoundTrainer import NetfoundTrainer\n",
    "from NetfoundConfig import NetfoundConfig, NetFoundTCPOptionsConfig, NetFoundLarge\n",
    "from NetfoundTokenizer import NetFoundTokenizer\n",
    "\n",
    "from utils import ModelArguments, CommonDataTrainingArguments, freeze, verify_checkpoint, \\\n",
    "    load_train_test_datasets, get_90_percent_cpu_count, get_logger, init_tbwriter, update_deepspeed_config, \\\n",
    "    LearningRateLogCallback\n",
    "\n",
    "random.seed(42)\n",
    "logger = get_logger(name=__name__)\n",
    "device = torch.device('cuda' if torch.cuda.is_available() else 'cpu')"
   ]
  },
  {
   "cell_type": "code",
   "execution_count": null,
   "metadata": {
    "executionInfo": {
     "elapsed": 13,
     "status": "ok",
     "timestamp": 1746680819487,
     "user": {
      "displayName": "Shiva",
      "userId": "03583737290382297870"
     },
     "user_tz": -330
    },
    "id": "0Zmlaz8U7E41"
   },
   "outputs": [],
   "source": [
    "import torch.optim as optim\n",
    "import torch.nn as nn\n",
    "from sklearn.metrics import accuracy_score, precision_score, recall_score, f1_score, confusion_matrix, classification_report"
   ]
  },
  {
   "cell_type": "markdown",
   "metadata": {
    "id": "CfMFQwqL10Em"
   },
   "source": [
    "# Funtions"
   ]
  },
  {
   "cell_type": "code",
   "execution_count": null,
   "metadata": {
    "executionInfo": {
     "elapsed": 1,
     "status": "ok",
     "timestamp": 1746680819490,
     "user": {
      "displayName": "Shiva",
      "userId": "03583737290382297870"
     },
     "user_tz": -330
    },
    "id": "7TKdOZR310Em"
   },
   "outputs": [],
   "source": [
    "@dataclass\n",
    "class FineTuningDataTrainingArguments(CommonDataTrainingArguments):\n",
    "    \"\"\"\n",
    "    Arguments pertaining to what data we are going to input our model for training and eval.\n",
    "    \"\"\"\n",
    "\n",
    "    num_labels: int = field(metadata={\"help\": \"number of classes in the datasets\"}, default=None)\n",
    "    problem_type: Optional[str] = field(\n",
    "        default=None,\n",
    "        metadata={\"help\": \"Override regression or classification task\"},\n",
    "    )\n",
    "    p_val: float = field(\n",
    "        default=0,\n",
    "        metadata={\n",
    "            \"help\": \"noise rate\"\n",
    "        },\n",
    "    )\n",
    "    netfound_large: bool = field(\n",
    "        default=False,\n",
    "        metadata={\n",
    "            \"help\": \"Use the large configuration for netFound model\"\n",
    "        },\n",
    "    )"
   ]
  },
  {
   "cell_type": "code",
   "execution_count": null,
   "metadata": {
    "executionInfo": {
     "elapsed": 4,
     "status": "ok",
     "timestamp": 1746680819495,
     "user": {
      "displayName": "Shiva",
      "userId": "03583737290382297870"
     },
     "user_tz": -330
    },
    "id": "g44RY2-V10En"
   },
   "outputs": [],
   "source": [
    "def regression_metrics(p: EvalPrediction):\n",
    "    logits = p.predictions[0] if isinstance(p.predictions, tuple) else p.predictions\n",
    "    label_ids = p.label_ids.astype(int)\n",
    "    return {\"loss\": np.mean(np.absolute((logits - label_ids)))}"
   ]
  },
  {
   "cell_type": "code",
   "execution_count": null,
   "metadata": {
    "executionInfo": {
     "elapsed": 3,
     "status": "ok",
     "timestamp": 1746680819503,
     "user": {
      "displayName": "Shiva",
      "userId": "03583737290382297870"
     },
     "user_tz": -330
    },
    "id": "lZCNLM2j10En"
   },
   "outputs": [],
   "source": [
    "def classif_metrics(p: EvalPrediction, num_classes):\n",
    "    logits = p.predictions[0] if isinstance(p.predictions, tuple) else p.predictions\n",
    "    label_ids = p.label_ids.astype(int)\n",
    "    weighted_f1 = f1_score(\n",
    "        y_true=label_ids, y_pred=logits.argmax(axis=1), average=\"weighted\", zero_division=0\n",
    "    )\n",
    "    weighted_prec = precision_score(\n",
    "        y_true=label_ids, y_pred=logits.argmax(axis=1), average=\"weighted\", zero_division=0\n",
    "    )\n",
    "    weighted_recall = recall_score(\n",
    "        y_true=label_ids, y_pred=logits.argmax(axis=1), average=\"weighted\", zero_division=0\n",
    "    )\n",
    "    accuracy = accuracy_score(y_true=label_ids, y_pred=logits.argmax(axis=1))\n",
    "    logger.warning(classification_report(label_ids, logits.argmax(axis=1), digits=5))\n",
    "    logger.warning(confusion_matrix(label_ids, logits.argmax(axis=1)))\n",
    "    if num_classes > 3:\n",
    "        logger.warning(f\"top3:{top_k_accuracy_score(label_ids, logits, k=3, labels=np.arange(num_classes))}\")\n",
    "    if num_classes > 5:\n",
    "        logger.warning(f\"top5:{top_k_accuracy_score(label_ids, logits, k=5, labels=np.arange(num_classes))}\")\n",
    "    if num_classes > 10:\n",
    "        logger.warning(f\"top10:{top_k_accuracy_score(label_ids, logits, k=10, labels=np.arange(num_classes))}\")\n",
    "    return {\n",
    "        \"weighted_f1\": weighted_f1,\n",
    "        \"accuracy\": accuracy,\n",
    "        \"weighted_prec: \": weighted_prec,\n",
    "        \"weighted_recall\": weighted_recall,\n",
    "    }"
   ]
  },
  {
   "cell_type": "markdown",
   "metadata": {
    "id": "J6lpW2rr10Eo"
   },
   "source": [
    "# Load Model and Dataset"
   ]
  },
  {
   "cell_type": "code",
   "execution_count": null,
   "metadata": {
    "executionInfo": {
     "elapsed": 1,
     "status": "ok",
     "timestamp": 1746680819505,
     "user": {
      "displayName": "Shiva",
      "userId": "03583737290382297870"
     },
     "user_tz": -330
    },
    "id": "KvVCcUhb4N52"
   },
   "outputs": [],
   "source": [
    "dataset_folder = r\"/content/drive/MyDrive/netFound/data/test/test_finetuning/final/combined/\"\n",
    "pretrained_model_path = r\"/content/drive/MyDrive/netFound/models/test/original_pretraining/pretrained_model/\"\n",
    "output_dir = r\"/content/drive/MyDrive/netFound/models/test/finetuning/\""
   ]
  },
  {
   "cell_type": "code",
   "execution_count": null,
   "metadata": {
    "executionInfo": {
     "elapsed": 20,
     "status": "ok",
     "timestamp": 1746680819537,
     "user": {
      "displayName": "Shiva",
      "userId": "03583737290382297870"
     },
     "user_tz": -330
    },
    "id": "_15I5z8p10Eo"
   },
   "outputs": [],
   "source": [
    "parser = HfArgumentParser((ModelArguments, FineTuningDataTrainingArguments, TrainingArguments))\n",
    "model_args, data_args, training_args = parser.parse_args_into_dataclasses(args=[\"--train_dir\", dataset_folder, \"--test_dir\", dataset_folder, \"--model_name_or_path\", pretrained_model_path, \"--output_dir\", output_dir, \"--report_to\", \"tensorboard\", \"--overwrite_output_dir\", \"--save_safetensors\", \"false\", \"--do_train\", \"--do_eval\", \"--eval_strategy\", \"epoch\", \"--save_strategy\", \"epoch\", \"--learning_rate\", \"0.01\", \"--num_train_epochs\", \"1\", \"--problem_type\", \"single_label_classification\", \"--num_labels\", \"6\", \"--load_best_model_at_end\", \"--netfound_large\", \"True\"])\n",
    "# utils.LOGGING_LEVEL = training_args.get_process_log_level()\n",
    "utils.LOGGING_LEVEL = 10\n",
    "logger.setLevel(10)"
   ]
  },
  {
   "cell_type": "code",
   "execution_count": null,
   "metadata": {
    "colab": {
     "base_uri": "https://localhost:8080/"
    },
    "collapsed": true,
    "executionInfo": {
     "elapsed": 106,
     "status": "ok",
     "timestamp": 1746680819671,
     "user": {
      "displayName": "Shiva",
      "userId": "03583737290382297870"
     },
     "user_tz": -330
    },
    "id": "Rav0fKQr10Ep",
    "outputId": "d2316864-ec49-4213-92e4-8ecc99cb67d2"
   },
   "outputs": [],
   "source": [
    "logger.info(f\"model_args: {model_args}\")\n",
    "logger.info(f\"data_args: {data_args}\")\n",
    "logger.info(f\"training_args: {training_args}\")"
   ]
  },
  {
   "cell_type": "code",
   "execution_count": null,
   "metadata": {
    "colab": {
     "base_uri": "https://localhost:8080/",
     "height": 0,
     "referenced_widgets": [
      "b97e3290eb3c425fa1cfe3c1d73a8509",
      "a89c73c2cce44f63a3f568dee6362dab",
      "e9f190d768df42cab5c0c118e40d97c2",
      "830127a3cee647eca484f3337d6c0ba0",
      "7c69438a020344bf9b3fb21741186277",
      "7f80fd54af384875979a6beec1923ad6",
      "3f241c28568f4ad2911e993cb9f9ca5b",
      "6b631f1c39a6415d87eb80db8bdccc4c",
      "ac144506684f45cb8e7e21e5f6940d06",
      "423743d0922d48fbb65095b4beb271eb",
      "73f3610e994a4afcb4396a54ec2d5ebb"
     ]
    },
    "executionInfo": {
     "elapsed": 9939,
     "status": "ok",
     "timestamp": 1746680829611,
     "user": {
      "displayName": "Shiva",
      "userId": "03583737290382297870"
     },
     "user_tz": -330
    },
    "id": "btGItctb10Ep",
    "outputId": "38be8b8f-7c03-440f-cad3-ecad9264dfe2"
   },
   "outputs": [],
   "source": [
    "train_dataset, test_dataset = load_train_test_datasets(logger, data_args)"
   ]
  },
  {
   "cell_type": "code",
   "execution_count": null,
   "metadata": {
    "colab": {
     "base_uri": "https://localhost:8080/"
    },
    "executionInfo": {
     "elapsed": 11,
     "status": "ok",
     "timestamp": 1746680829623,
     "user": {
      "displayName": "Shiva",
      "userId": "03583737290382297870"
     },
     "user_tz": -330
    },
    "id": "NNGVlIHz10Ep",
    "outputId": "a7309ddb-599c-408d-99b4-91ee74407fc8"
   },
   "outputs": [],
   "source": [
    "len(train_dataset), len(test_dataset)"
   ]
  },
  {
   "cell_type": "code",
   "execution_count": null,
   "metadata": {
    "executionInfo": {
     "elapsed": 2,
     "status": "ok",
     "timestamp": 1746680829634,
     "user": {
      "displayName": "Shiva",
      "userId": "03583737290382297870"
     },
     "user_tz": -330
    },
    "id": "OYQHLVgk10Ep"
   },
   "outputs": [],
   "source": [
    "config = NetFoundTCPOptionsConfig if data_args.tcpoptions else NetfoundConfig"
   ]
  },
  {
   "cell_type": "code",
   "execution_count": null,
   "metadata": {
    "executionInfo": {
     "elapsed": 13,
     "status": "ok",
     "timestamp": 1746680829649,
     "user": {
      "displayName": "Shiva",
      "userId": "03583737290382297870"
     },
     "user_tz": -330
    },
    "id": "Clncjw7U10Eq"
   },
   "outputs": [],
   "source": [
    "config = config(num_hidden_layers=model_args.num_hidden_layers, num_attention_heads=model_args.num_attention_heads,\n",
    "        hidden_size=model_args.hidden_size, no_meta=data_args.no_meta, flat=data_args.flat)"
   ]
  },
  {
   "cell_type": "code",
   "execution_count": null,
   "metadata": {
    "executionInfo": {
     "elapsed": 2,
     "status": "ok",
     "timestamp": 1746680829653,
     "user": {
      "displayName": "Shiva",
      "userId": "03583737290382297870"
     },
     "user_tz": -330
    },
    "id": "EQzMmXrU10Eq"
   },
   "outputs": [],
   "source": [
    "if data_args.netfound_large:\n",
    "    config.hidden_size = NetFoundLarge().hidden_size\n",
    "    config.num_hidden_layers = NetFoundLarge().num_hidden_layers\n",
    "    config.num_attention_heads = NetFoundLarge().num_attention_heads"
   ]
  },
  {
   "cell_type": "code",
   "execution_count": null,
   "metadata": {
    "executionInfo": {
     "elapsed": 49,
     "status": "ok",
     "timestamp": 1746680829703,
     "user": {
      "displayName": "Shiva",
      "userId": "03583737290382297870"
     },
     "user_tz": -330
    },
    "id": "GfTtI1dQ10Eq"
   },
   "outputs": [],
   "source": [
    "config.pretraining = False\n",
    "config.num_labels = data_args.num_labels\n",
    "config.problem_type = data_args.problem_type\n",
    "testingTokenizer = NetFoundTokenizer(config=config)"
   ]
  },
  {
   "cell_type": "code",
   "execution_count": null,
   "metadata": {
    "executionInfo": {
     "elapsed": 7,
     "status": "ok",
     "timestamp": 1746680829704,
     "user": {
      "displayName": "Shiva",
      "userId": "03583737290382297870"
     },
     "user_tz": -330
    },
    "id": "UBW-b2Cq10Eq"
   },
   "outputs": [],
   "source": [
    "training_config = deepcopy(config)\n",
    "training_config.p = data_args.p_val\n",
    "training_config.limit_bursts = data_args.limit_bursts\n",
    "trainingTokenizer = NetFoundTokenizer(config=training_config)\n",
    "additionalFields = None"
   ]
  },
  {
   "cell_type": "code",
   "execution_count": null,
   "metadata": {
    "executionInfo": {
     "elapsed": 7,
     "status": "ok",
     "timestamp": 1746680829706,
     "user": {
      "displayName": "Shiva",
      "userId": "03583737290382297870"
     },
     "user_tz": -330
    },
    "id": "A08OQyN310Eq"
   },
   "outputs": [],
   "source": [
    "params = {\"batched\": True}"
   ]
  },
  {
   "cell_type": "code",
   "execution_count": null,
   "metadata": {
    "colab": {
     "base_uri": "https://localhost:8080/",
     "height": 0,
     "referenced_widgets": [
      "c8be958ba605448b8fa4d4dc0c01e30d",
      "4d04e8fb12c14a8c9b4461b86a29aa35",
      "ef1d64c996904e17b7d647daa01b6e24",
      "e85761de758b415997db2ae63e81fe6a",
      "d79a70eec91f408ab208fd9f847e8134",
      "d90e8fb52ac4405f89baed05bd6d204e",
      "a3ab5de959364ce8bb3148222017cc26",
      "ed8b5bbbddab4d9486c2d5ca4c7b88f5",
      "432850d9a68b49beae7101109ecd044f",
      "45d4703696784361900428f548f37ecc",
      "d15c1e1633a44e8485e318f3ab66dd70"
     ]
    },
    "executionInfo": {
     "elapsed": 7460,
     "status": "ok",
     "timestamp": 1746680837160,
     "user": {
      "displayName": "Shiva",
      "userId": "03583737290382297870"
     },
     "user_tz": -330
    },
    "id": "LZ-7e-HM10Eq",
    "outputId": "00242d66-6f90-4026-89ea-05f059fc039d"
   },
   "outputs": [],
   "source": [
    "train_dataset = train_dataset.map(function=trainingTokenizer, **params)\n",
    "test_dataset = test_dataset.map(function=testingTokenizer, **params)"
   ]
  },
  {
   "cell_type": "code",
   "execution_count": null,
   "metadata": {
    "executionInfo": {
     "elapsed": 6,
     "status": "ok",
     "timestamp": 1746680837170,
     "user": {
      "displayName": "Shiva",
      "userId": "03583737290382297870"
     },
     "user_tz": -330
    },
    "id": "lzpoVxQ410Eq"
   },
   "outputs": [],
   "source": [
    "data_collator = DataCollatorForFlowClassification(config.max_burst_length)"
   ]
  },
  {
   "cell_type": "code",
   "execution_count": null,
   "metadata": {
    "colab": {
     "base_uri": "https://localhost:8080/"
    },
    "executionInfo": {
     "elapsed": 5,
     "status": "ok",
     "timestamp": 1746680837183,
     "user": {
      "displayName": "Shiva",
      "userId": "03583737290382297870"
     },
     "user_tz": -330
    },
    "id": "W124ubNK10Er",
    "outputId": "03d980e9-016e-4aa8-e643-a2490932142b"
   },
   "outputs": [],
   "source": [
    "logger.warning(f\"Using weights from {model_args.model_name_or_path}\")"
   ]
  },
  {
   "cell_type": "code",
   "execution_count": null,
   "metadata": {
    "colab": {
     "base_uri": "https://localhost:8080/"
    },
    "executionInfo": {
     "elapsed": 43939,
     "status": "ok",
     "timestamp": 1746680881123,
     "user": {
      "displayName": "Shiva",
      "userId": "03583737290382297870"
     },
     "user_tz": -330
    },
    "id": "DFrZ-83W10Er",
    "outputId": "ef665f4c-d0fb-4398-9b65-fe6748f84b19"
   },
   "outputs": [],
   "source": [
    "original_model = NetfoundFinetuningModel.from_pretrained(model_args.model_name_or_path, config=config)"
   ]
  },
  {
   "cell_type": "code",
   "execution_count": null,
   "metadata": {
    "executionInfo": {
     "elapsed": 13,
     "status": "ok",
     "timestamp": 1746680881131,
     "user": {
      "displayName": "Shiva",
      "userId": "03583737290382297870"
     },
     "user_tz": -330
    },
    "id": "czvj5Dwe10Er"
   },
   "outputs": [],
   "source": [
    "model = freeze(original_model, model_args)"
   ]
  },
  {
   "cell_type": "markdown",
   "metadata": {
    "id": "iJzu_NGU10Er"
   },
   "source": [
    "# Infer Model"
   ]
  },
  {
   "cell_type": "code",
   "execution_count": null,
   "metadata": {
    "executionInfo": {
     "elapsed": 62,
     "status": "ok",
     "timestamp": 1746680881256,
     "user": {
      "displayName": "Shiva",
      "userId": "03583737290382297870"
     },
     "user_tz": -330
    },
    "id": "pKraduuYSbgx"
   },
   "outputs": [],
   "source": [
    "saved_weights = os.path.join(output_dir, f'model_epoch_latest.pth')\n",
    "if os.path.exists(saved_weights):\n",
    "    weights = torch.load(saved_weights)\n",
    "    model.load_state_dict(weights)"
   ]
  },
  {
   "cell_type": "code",
   "execution_count": null,
   "metadata": {
    "executionInfo": {
     "elapsed": 4,
     "status": "ok",
     "timestamp": 1746680926327,
     "user": {
      "displayName": "Shiva",
      "userId": "03583737290382297870"
     },
     "user_tz": -330
    },
    "id": "oEf4QRQ710Er"
   },
   "outputs": [],
   "source": [
    "for x in train_dataset:\n",
    "    break"
   ]
  },
  {
   "cell_type": "code",
   "execution_count": null,
   "metadata": {
    "executionInfo": {
     "elapsed": 9,
     "status": "ok",
     "timestamp": 1746680926337,
     "user": {
      "displayName": "Shiva",
      "userId": "03583737290382297870"
     },
     "user_tz": -330
    },
    "id": "c-vjy5yD10Er"
   },
   "outputs": [],
   "source": [
    "px = data_collator([x])"
   ]
  },
  {
   "cell_type": "code",
   "execution_count": null,
   "metadata": {
    "executionInfo": {
     "elapsed": 1473,
     "status": "ok",
     "timestamp": 1746680927811,
     "user": {
      "displayName": "Shiva",
      "userId": "03583737290382297870"
     },
     "user_tz": -330
    },
    "id": "031euCgD10Er"
   },
   "outputs": [],
   "source": [
    "py = model(labels = px['labels'], protocol = px['protocol'], flow_duration = px['flow_duration'], bytes = px['bytes'], iats = px['iats'], input_ids = px['input_ids'], attention_mask = px['attention_mask'], direction = px['direction'], pkt_count = px['pkt_count'])"
   ]
  },
  {
   "cell_type": "code",
   "execution_count": null,
   "metadata": {
    "colab": {
     "base_uri": "https://localhost:8080/"
    },
    "executionInfo": {
     "elapsed": 5,
     "status": "ok",
     "timestamp": 1746680927813,
     "user": {
      "displayName": "Shiva",
      "userId": "03583737290382297870"
     },
     "user_tz": -330
    },
    "id": "ybsMjn7-SqW2",
    "outputId": "20afa0fb-7abe-45dd-8b94-a2eec567a4b8"
   },
   "outputs": [],
   "source": [
    "py.logits"
   ]
  },
  {
   "cell_type": "markdown",
   "metadata": {
    "id": "9mnxCQLY6dck"
   },
   "source": [
    "# Train Model"
   ]
  },
  {
   "cell_type": "code",
   "execution_count": null,
   "metadata": {
    "executionInfo": {
     "elapsed": 735,
     "status": "ok",
     "timestamp": 1746681082268,
     "user": {
      "displayName": "Shiva",
      "userId": "03583737290382297870"
     },
     "user_tz": -330
    },
    "id": "ToEdkFdZ-jo8"
   },
   "outputs": [],
   "source": [
    "model = model.to(device)\n",
    "model = model.train()"
   ]
  },
  {
   "cell_type": "code",
   "execution_count": null,
   "metadata": {
    "executionInfo": {
     "elapsed": 4,
     "status": "ok",
     "timestamp": 1746681083239,
     "user": {
      "displayName": "Shiva",
      "userId": "03583737290382297870"
     },
     "user_tz": -330
    },
    "id": "i3QBhDltQ5qV"
   },
   "outputs": [],
   "source": [
    "req_keys = ['labels', 'protocol', 'flow_duration', 'bytes', 'iats', 'input_ids', 'attention_mask', 'direction', 'pkt_count', 'total_bursts']"
   ]
  },
  {
   "cell_type": "code",
   "execution_count": null,
   "metadata": {
    "executionInfo": {
     "elapsed": 2,
     "status": "ok",
     "timestamp": 1746681084053,
     "user": {
      "displayName": "Shiva",
      "userId": "03583737290382297870"
     },
     "user_tz": -330
    },
    "id": "xskd7TkoDzpn"
   },
   "outputs": [],
   "source": [
    "for p in model.base_transformer.parameters():\n",
    "    p.requires_grad = False\n",
    "for p in model.attentivePooling.parameters():\n",
    "    p.requires_grad = False\n",
    "for p in model.dropout.parameters():\n",
    "    p.requires_grad = True\n",
    "for p in model.hiddenLayer.parameters():\n",
    "    p.requires_grad = True\n",
    "for p in model.hiddenLayer2.parameters():\n",
    "    p.requires_grad = True\n",
    "for p in model.classifier.parameters():\n",
    "    p.requires_grad = True"
   ]
  },
  {
   "cell_type": "code",
   "execution_count": null,
   "metadata": {
    "executionInfo": {
     "elapsed": 15,
     "status": "ok",
     "timestamp": 1746681404841,
     "user": {
      "displayName": "Shiva",
      "userId": "03583737290382297870"
     },
     "user_tz": -330
    },
    "id": "TzB-cQrS635p"
   },
   "outputs": [],
   "source": [
    "criterion = nn.CrossEntropyLoss()\n",
    "optimizer = optim.SGD(model.parameters(), lr=0.0001, momentum=0.9)\n",
    "batch_size = 64"
   ]
  },
  {
   "cell_type": "code",
   "execution_count": null,
   "metadata": {
    "executionInfo": {
     "elapsed": 8,
     "status": "ok",
     "timestamp": 1746681097878,
     "user": {
      "displayName": "Shiva",
      "userId": "03583737290382297870"
     },
     "user_tz": -330
    },
    "id": "5ycJUIouWWPU"
   },
   "outputs": [],
   "source": [
    "train_len = len(train_dataset)\n",
    "train_inds = np.arange(train_len)\n",
    "np.random.shuffle(train_inds)\n",
    "train_inds = train_inds.tolist()"
   ]
  },
  {
   "cell_type": "code",
   "execution_count": null,
   "metadata": {
    "colab": {
     "base_uri": "https://localhost:8080/"
    },
    "collapsed": true,
    "executionInfo": {
     "elapsed": 8738,
     "status": "ok",
     "timestamp": 1746681108667,
     "user": {
      "displayName": "Shiva",
      "userId": "03583737290382297870"
     },
     "user_tz": -330
    },
    "id": "MBdEJe4pTnl2",
    "outputId": "f26d43c4-6db3-4204-b8a5-249eb7fc05a9"
   },
   "outputs": [],
   "source": [
    "xl = []\n",
    "for i, ind in enumerate(train_inds):\n",
    "  x = train_dataset[ind]\n",
    "  if i%batch_size != batch_size - 1:\n",
    "    xx = {k: x[k] for k in x if k in req_keys}\n",
    "    xl.append(xx)\n",
    "    continue\n",
    "\n",
    "  px = data_collator(xl)\n",
    "  print(px['labels'])\n",
    "  xl = []"
   ]
  },
  {
   "cell_type": "code",
   "execution_count": null,
   "metadata": {
    "colab": {
     "base_uri": "https://localhost:8080/"
    },
    "executionInfo": {
     "elapsed": 201906,
     "status": "ok",
     "timestamp": 1746681380300,
     "user": {
      "displayName": "Shiva",
      "userId": "03583737290382297870"
     },
     "user_tz": -330
    },
    "id": "5yjxcdQe63zO",
    "outputId": "70eb61b6-f755-4a8f-8628-b073feb32899"
   },
   "outputs": [],
   "source": [
    "ground_truths = []\n",
    "predictions = []\n",
    "xl = []\n",
    "with torch.no_grad():\n",
    "    for i, x in enumerate(test_dataset, 0):\n",
    "      try:\n",
    "        if i%batch_size != batch_size - 1:\n",
    "          xx = {k: x[k] for k in x if k in req_keys}\n",
    "          xl.append(xx)\n",
    "          continue\n",
    "\n",
    "        px = data_collator(xl)\n",
    "        px = {a: b.to(device) for a,b in px.items()}\n",
    "\n",
    "        py = model(labels = px['labels'], protocol = px['protocol'], flow_duration = px['flow_duration'], bytes = px['bytes'], iats = px['iats'],\n",
    "                   input_ids = px['input_ids'], attention_mask = px['attention_mask'], direction = px['direction'], pkt_count = px['pkt_count'])\n",
    "        labels = px['labels']\n",
    "        outputs = py.logits\n",
    "        _, predicted = torch.max(outputs, 1)\n",
    "        ground_truths += labels.cpu().numpy().tolist()\n",
    "        predictions += predicted.cpu().numpy().tolist()\n",
    "        xl = []\n",
    "      except Exception as e:\n",
    "        print(i, e)\n",
    "        pass\n",
    "\n",
    "accuracy = accuracy_score(ground_truths, predictions)\n",
    "print('Accuracy: %.3f' % accuracy)\n",
    "\n",
    "precision = precision_score(ground_truths, predictions, average='weighted')\n",
    "print('Precision: %.3f' % precision)\n",
    "\n",
    "recall = recall_score(ground_truths, predictions, average='weighted')\n",
    "print('Recall: %.3f' % recall)"
   ]
  },
  {
   "cell_type": "code",
   "execution_count": null,
   "metadata": {
    "colab": {
     "base_uri": "https://localhost:8080/"
    },
    "executionInfo": {
     "elapsed": 8,
     "status": "ok",
     "timestamp": 1746681380301,
     "user": {
      "displayName": "Shiva",
      "userId": "03583737290382297870"
     },
     "user_tz": -330
    },
    "id": "h1uygNhgcKKA",
    "outputId": "c440c3c6-6c7a-40ad-8e8a-34898558bed6"
   },
   "outputs": [],
   "source": [
    "print(classification_report(ground_truths, predictions, target_names=['0', '1', '2', '3', '4', '5']))"
   ]
  },
  {
   "cell_type": "code",
   "execution_count": null,
   "metadata": {
    "executionInfo": {
     "elapsed": 3,
     "status": "ok",
     "timestamp": 1746681380328,
     "user": {
      "displayName": "Shiva",
      "userId": "03583737290382297870"
     },
     "user_tz": -330
    },
    "id": "CTCNBHfuIvsn"
   },
   "outputs": [],
   "source": [
    "prev_accuracy = accuracy"
   ]
  },
  {
   "cell_type": "code",
   "execution_count": null,
   "metadata": {
    "colab": {
     "base_uri": "https://localhost:8080/"
    },
    "id": "wNNMjq3oUFFD",
    "outputId": "732c7176-d265-44b5-e97b-85767507e4de"
   },
   "outputs": [],
   "source": [
    "for epoch in range(1, 50):\n",
    "    running_loss = 0.0\n",
    "    running_count = 0\n",
    "    xl = []\n",
    "    for i, ind in enumerate(train_inds, 0):\n",
    "      x = train_dataset[ind]\n",
    "      try:\n",
    "        if i%batch_size != batch_size - 1:\n",
    "          xx = {k: x[k] for k in x if k in req_keys}\n",
    "          xl.append(xx)\n",
    "          continue\n",
    "\n",
    "        px = data_collator(xl)\n",
    "        px = {a: b.to(device) for a,b in px.items()}\n",
    "        optimizer.zero_grad()\n",
    "\n",
    "        py = model(labels = px['labels'], protocol = px['protocol'], flow_duration = px['flow_duration'], bytes = px['bytes'], iats = px['iats'],\n",
    "                   input_ids = px['input_ids'], attention_mask = px['attention_mask'], direction = px['direction'], pkt_count = px['pkt_count'])\n",
    "        loss = criterion(py.logits, px['labels'])\n",
    "        loss.backward()\n",
    "        optimizer.step()\n",
    "\n",
    "        running_loss += loss.item()\n",
    "        running_count += 1\n",
    "        xl = []\n",
    "      except Exception as e:\n",
    "        print(i, e)\n",
    "        break\n",
    "    print(f'[{epoch + 1}, {i + 1:5d}] loss: {running_loss / running_count:.3f} loss count: {running_count}')\n",
    "\n",
    "    ground_truths = []\n",
    "    predictions = []\n",
    "    xl = []\n",
    "    with torch.no_grad():\n",
    "        for i, x in enumerate(test_dataset, 0):\n",
    "          try:\n",
    "            if i%batch_size != batch_size - 1:\n",
    "              xx = {k: x[k] for k in x if k in req_keys}\n",
    "              xl.append(xx)\n",
    "              continue\n",
    "\n",
    "            px = data_collator(xl)\n",
    "            px = {a: b.to(device) for a,b in px.items()}\n",
    "\n",
    "            py = model(labels = px['labels'], protocol = px['protocol'], flow_duration = px['flow_duration'], bytes = px['bytes'], iats = px['iats'],\n",
    "                      input_ids = px['input_ids'], attention_mask = px['attention_mask'], direction = px['direction'], pkt_count = px['pkt_count'])\n",
    "            labels = px['labels']\n",
    "            outputs = py.logits\n",
    "            _, predicted = torch.max(outputs, 1)\n",
    "            ground_truths += labels.cpu().numpy().tolist()\n",
    "            predictions += predicted.cpu().numpy().tolist()\n",
    "            xl = []\n",
    "          except Exception as e:\n",
    "            print(i, e)\n",
    "            pass\n",
    "\n",
    "    accuracy = accuracy_score(ground_truths, predictions)\n",
    "    print('Epoch: %d, Accuracy: %.3f' % (epoch, accuracy))\n",
    "\n",
    "    precision = precision_score(ground_truths, predictions, average='weighted')\n",
    "    print('Epoch: %d, Precision: %.3f' % (epoch, precision))\n",
    "\n",
    "    recall = recall_score(ground_truths, predictions, average='weighted')\n",
    "    print('Epoch: %d, Recall: %.3f' % (epoch, recall))\n",
    "\n",
    "    print(\"Epoch: %d\"%epoch)\n",
    "    print(classification_report(ground_truths, predictions, target_names=['0', '1', '2', '3', '4', '5']))\n",
    "\n",
    "    if prev_accuracy < accuracy:\n",
    "      prev_accuracy = accuracy\n",
    "      torch.save(model.state_dict(), os.path.join(output_dir, f'model_epoch_latest.pth'))\n",
    "      print(\"Stored:\", epoch)\n",
    "print('Finished Training')"
   ]
  },
  {
   "cell_type": "code",
   "execution_count": null,
   "metadata": {
    "id": "BfDl0YUniLGR"
   },
   "outputs": [],
   "source": [
    "from google.colab import runtime\n",
    "runtime.unassign()"
   ]
  }
 ],
 "metadata": {
  "accelerator": "GPU",
  "colab": {
   "collapsed_sections": [
    "TOhMIvYr10Ej",
    "CfMFQwqL10Em",
    "J6lpW2rr10Eo"
   ],
   "gpuType": "T4",
   "provenance": []
  },
  "kernelspec": {
   "display_name": "Python 3",
   "name": "python3"
  },
  "language_info": {
   "codemirror_mode": {
    "name": "ipython",
    "version": 3
   },
   "file_extension": ".py",
   "mimetype": "text/x-python",
   "name": "python",
   "nbconvert_exporter": "python",
   "pygments_lexer": "ipython3",
   "version": "3.9.7"
  },
  "widgets": {
   "application/vnd.jupyter.widget-state+json": {
    "3f241c28568f4ad2911e993cb9f9ca5b": {
     "model_module": "@jupyter-widgets/controls",
     "model_module_version": "1.5.0",
     "model_name": "DescriptionStyleModel",
     "state": {
      "_model_module": "@jupyter-widgets/controls",
      "_model_module_version": "1.5.0",
      "_model_name": "DescriptionStyleModel",
      "_view_count": null,
      "_view_module": "@jupyter-widgets/base",
      "_view_module_version": "1.2.0",
      "_view_name": "StyleView",
      "description_width": ""
     }
    },
    "423743d0922d48fbb65095b4beb271eb": {
     "model_module": "@jupyter-widgets/base",
     "model_module_version": "1.2.0",
     "model_name": "LayoutModel",
     "state": {
      "_model_module": "@jupyter-widgets/base",
      "_model_module_version": "1.2.0",
      "_model_name": "LayoutModel",
      "_view_count": null,
      "_view_module": "@jupyter-widgets/base",
      "_view_module_version": "1.2.0",
      "_view_name": "LayoutView",
      "align_content": null,
      "align_items": null,
      "align_self": null,
      "border": null,
      "bottom": null,
      "display": null,
      "flex": null,
      "flex_flow": null,
      "grid_area": null,
      "grid_auto_columns": null,
      "grid_auto_flow": null,
      "grid_auto_rows": null,
      "grid_column": null,
      "grid_gap": null,
      "grid_row": null,
      "grid_template_areas": null,
      "grid_template_columns": null,
      "grid_template_rows": null,
      "height": null,
      "justify_content": null,
      "justify_items": null,
      "left": null,
      "margin": null,
      "max_height": null,
      "max_width": null,
      "min_height": null,
      "min_width": null,
      "object_fit": null,
      "object_position": null,
      "order": null,
      "overflow": null,
      "overflow_x": null,
      "overflow_y": null,
      "padding": null,
      "right": null,
      "top": null,
      "visibility": null,
      "width": null
     }
    },
    "432850d9a68b49beae7101109ecd044f": {
     "model_module": "@jupyter-widgets/controls",
     "model_module_version": "1.5.0",
     "model_name": "ProgressStyleModel",
     "state": {
      "_model_module": "@jupyter-widgets/controls",
      "_model_module_version": "1.5.0",
      "_model_name": "ProgressStyleModel",
      "_view_count": null,
      "_view_module": "@jupyter-widgets/base",
      "_view_module_version": "1.2.0",
      "_view_name": "StyleView",
      "bar_color": null,
      "description_width": ""
     }
    },
    "45d4703696784361900428f548f37ecc": {
     "model_module": "@jupyter-widgets/base",
     "model_module_version": "1.2.0",
     "model_name": "LayoutModel",
     "state": {
      "_model_module": "@jupyter-widgets/base",
      "_model_module_version": "1.2.0",
      "_model_name": "LayoutModel",
      "_view_count": null,
      "_view_module": "@jupyter-widgets/base",
      "_view_module_version": "1.2.0",
      "_view_name": "LayoutView",
      "align_content": null,
      "align_items": null,
      "align_self": null,
      "border": null,
      "bottom": null,
      "display": null,
      "flex": null,
      "flex_flow": null,
      "grid_area": null,
      "grid_auto_columns": null,
      "grid_auto_flow": null,
      "grid_auto_rows": null,
      "grid_column": null,
      "grid_gap": null,
      "grid_row": null,
      "grid_template_areas": null,
      "grid_template_columns": null,
      "grid_template_rows": null,
      "height": null,
      "justify_content": null,
      "justify_items": null,
      "left": null,
      "margin": null,
      "max_height": null,
      "max_width": null,
      "min_height": null,
      "min_width": null,
      "object_fit": null,
      "object_position": null,
      "order": null,
      "overflow": null,
      "overflow_x": null,
      "overflow_y": null,
      "padding": null,
      "right": null,
      "top": null,
      "visibility": null,
      "width": null
     }
    },
    "4d04e8fb12c14a8c9b4461b86a29aa35": {
     "model_module": "@jupyter-widgets/controls",
     "model_module_version": "1.5.0",
     "model_name": "HTMLModel",
     "state": {
      "_dom_classes": [],
      "_model_module": "@jupyter-widgets/controls",
      "_model_module_version": "1.5.0",
      "_model_name": "HTMLModel",
      "_view_count": null,
      "_view_module": "@jupyter-widgets/controls",
      "_view_module_version": "1.5.0",
      "_view_name": "HTMLView",
      "description": "",
      "description_tooltip": null,
      "layout": "IPY_MODEL_d90e8fb52ac4405f89baed05bd6d204e",
      "placeholder": "​",
      "style": "IPY_MODEL_a3ab5de959364ce8bb3148222017cc26",
      "value": "Map: 100%"
     }
    },
    "6b631f1c39a6415d87eb80db8bdccc4c": {
     "model_module": "@jupyter-widgets/base",
     "model_module_version": "1.2.0",
     "model_name": "LayoutModel",
     "state": {
      "_model_module": "@jupyter-widgets/base",
      "_model_module_version": "1.2.0",
      "_model_name": "LayoutModel",
      "_view_count": null,
      "_view_module": "@jupyter-widgets/base",
      "_view_module_version": "1.2.0",
      "_view_name": "LayoutView",
      "align_content": null,
      "align_items": null,
      "align_self": null,
      "border": null,
      "bottom": null,
      "display": null,
      "flex": null,
      "flex_flow": null,
      "grid_area": null,
      "grid_auto_columns": null,
      "grid_auto_flow": null,
      "grid_auto_rows": null,
      "grid_column": null,
      "grid_gap": null,
      "grid_row": null,
      "grid_template_areas": null,
      "grid_template_columns": null,
      "grid_template_rows": null,
      "height": null,
      "justify_content": null,
      "justify_items": null,
      "left": null,
      "margin": null,
      "max_height": null,
      "max_width": null,
      "min_height": null,
      "min_width": null,
      "object_fit": null,
      "object_position": null,
      "order": null,
      "overflow": null,
      "overflow_x": null,
      "overflow_y": null,
      "padding": null,
      "right": null,
      "top": null,
      "visibility": null,
      "width": "20px"
     }
    },
    "73f3610e994a4afcb4396a54ec2d5ebb": {
     "model_module": "@jupyter-widgets/controls",
     "model_module_version": "1.5.0",
     "model_name": "DescriptionStyleModel",
     "state": {
      "_model_module": "@jupyter-widgets/controls",
      "_model_module_version": "1.5.0",
      "_model_name": "DescriptionStyleModel",
      "_view_count": null,
      "_view_module": "@jupyter-widgets/base",
      "_view_module_version": "1.2.0",
      "_view_name": "StyleView",
      "description_width": ""
     }
    },
    "7c69438a020344bf9b3fb21741186277": {
     "model_module": "@jupyter-widgets/base",
     "model_module_version": "1.2.0",
     "model_name": "LayoutModel",
     "state": {
      "_model_module": "@jupyter-widgets/base",
      "_model_module_version": "1.2.0",
      "_model_name": "LayoutModel",
      "_view_count": null,
      "_view_module": "@jupyter-widgets/base",
      "_view_module_version": "1.2.0",
      "_view_name": "LayoutView",
      "align_content": null,
      "align_items": null,
      "align_self": null,
      "border": null,
      "bottom": null,
      "display": null,
      "flex": null,
      "flex_flow": null,
      "grid_area": null,
      "grid_auto_columns": null,
      "grid_auto_flow": null,
      "grid_auto_rows": null,
      "grid_column": null,
      "grid_gap": null,
      "grid_row": null,
      "grid_template_areas": null,
      "grid_template_columns": null,
      "grid_template_rows": null,
      "height": null,
      "justify_content": null,
      "justify_items": null,
      "left": null,
      "margin": null,
      "max_height": null,
      "max_width": null,
      "min_height": null,
      "min_width": null,
      "object_fit": null,
      "object_position": null,
      "order": null,
      "overflow": null,
      "overflow_x": null,
      "overflow_y": null,
      "padding": null,
      "right": null,
      "top": null,
      "visibility": null,
      "width": null
     }
    },
    "7f80fd54af384875979a6beec1923ad6": {
     "model_module": "@jupyter-widgets/base",
     "model_module_version": "1.2.0",
     "model_name": "LayoutModel",
     "state": {
      "_model_module": "@jupyter-widgets/base",
      "_model_module_version": "1.2.0",
      "_model_name": "LayoutModel",
      "_view_count": null,
      "_view_module": "@jupyter-widgets/base",
      "_view_module_version": "1.2.0",
      "_view_name": "LayoutView",
      "align_content": null,
      "align_items": null,
      "align_self": null,
      "border": null,
      "bottom": null,
      "display": null,
      "flex": null,
      "flex_flow": null,
      "grid_area": null,
      "grid_auto_columns": null,
      "grid_auto_flow": null,
      "grid_auto_rows": null,
      "grid_column": null,
      "grid_gap": null,
      "grid_row": null,
      "grid_template_areas": null,
      "grid_template_columns": null,
      "grid_template_rows": null,
      "height": null,
      "justify_content": null,
      "justify_items": null,
      "left": null,
      "margin": null,
      "max_height": null,
      "max_width": null,
      "min_height": null,
      "min_width": null,
      "object_fit": null,
      "object_position": null,
      "order": null,
      "overflow": null,
      "overflow_x": null,
      "overflow_y": null,
      "padding": null,
      "right": null,
      "top": null,
      "visibility": null,
      "width": null
     }
    },
    "830127a3cee647eca484f3337d6c0ba0": {
     "model_module": "@jupyter-widgets/controls",
     "model_module_version": "1.5.0",
     "model_name": "HTMLModel",
     "state": {
      "_dom_classes": [],
      "_model_module": "@jupyter-widgets/controls",
      "_model_module_version": "1.5.0",
      "_model_name": "HTMLModel",
      "_view_count": null,
      "_view_module": "@jupyter-widgets/controls",
      "_view_module_version": "1.5.0",
      "_view_name": "HTMLView",
      "description": "",
      "description_tooltip": null,
      "layout": "IPY_MODEL_423743d0922d48fbb65095b4beb271eb",
      "placeholder": "​",
      "style": "IPY_MODEL_73f3610e994a4afcb4396a54ec2d5ebb",
      "value": " 1803/0 [00:00&lt;00:00, 6041.91 examples/s]"
     }
    },
    "a3ab5de959364ce8bb3148222017cc26": {
     "model_module": "@jupyter-widgets/controls",
     "model_module_version": "1.5.0",
     "model_name": "DescriptionStyleModel",
     "state": {
      "_model_module": "@jupyter-widgets/controls",
      "_model_module_version": "1.5.0",
      "_model_name": "DescriptionStyleModel",
      "_view_count": null,
      "_view_module": "@jupyter-widgets/base",
      "_view_module_version": "1.2.0",
      "_view_name": "StyleView",
      "description_width": ""
     }
    },
    "a89c73c2cce44f63a3f568dee6362dab": {
     "model_module": "@jupyter-widgets/controls",
     "model_module_version": "1.5.0",
     "model_name": "HTMLModel",
     "state": {
      "_dom_classes": [],
      "_model_module": "@jupyter-widgets/controls",
      "_model_module_version": "1.5.0",
      "_model_name": "HTMLModel",
      "_view_count": null,
      "_view_module": "@jupyter-widgets/controls",
      "_view_module_version": "1.5.0",
      "_view_name": "HTMLView",
      "description": "",
      "description_tooltip": null,
      "layout": "IPY_MODEL_7f80fd54af384875979a6beec1923ad6",
      "placeholder": "​",
      "style": "IPY_MODEL_3f241c28568f4ad2911e993cb9f9ca5b",
      "value": "Generating train split: "
     }
    },
    "ac144506684f45cb8e7e21e5f6940d06": {
     "model_module": "@jupyter-widgets/controls",
     "model_module_version": "1.5.0",
     "model_name": "ProgressStyleModel",
     "state": {
      "_model_module": "@jupyter-widgets/controls",
      "_model_module_version": "1.5.0",
      "_model_name": "ProgressStyleModel",
      "_view_count": null,
      "_view_module": "@jupyter-widgets/base",
      "_view_module_version": "1.2.0",
      "_view_name": "StyleView",
      "bar_color": null,
      "description_width": ""
     }
    },
    "b97e3290eb3c425fa1cfe3c1d73a8509": {
     "model_module": "@jupyter-widgets/controls",
     "model_module_version": "1.5.0",
     "model_name": "HBoxModel",
     "state": {
      "_dom_classes": [],
      "_model_module": "@jupyter-widgets/controls",
      "_model_module_version": "1.5.0",
      "_model_name": "HBoxModel",
      "_view_count": null,
      "_view_module": "@jupyter-widgets/controls",
      "_view_module_version": "1.5.0",
      "_view_name": "HBoxView",
      "box_style": "",
      "children": [
       "IPY_MODEL_a89c73c2cce44f63a3f568dee6362dab",
       "IPY_MODEL_e9f190d768df42cab5c0c118e40d97c2",
       "IPY_MODEL_830127a3cee647eca484f3337d6c0ba0"
      ],
      "layout": "IPY_MODEL_7c69438a020344bf9b3fb21741186277"
     }
    },
    "c8be958ba605448b8fa4d4dc0c01e30d": {
     "model_module": "@jupyter-widgets/controls",
     "model_module_version": "1.5.0",
     "model_name": "HBoxModel",
     "state": {
      "_dom_classes": [],
      "_model_module": "@jupyter-widgets/controls",
      "_model_module_version": "1.5.0",
      "_model_name": "HBoxModel",
      "_view_count": null,
      "_view_module": "@jupyter-widgets/controls",
      "_view_module_version": "1.5.0",
      "_view_name": "HBoxView",
      "box_style": "",
      "children": [
       "IPY_MODEL_4d04e8fb12c14a8c9b4461b86a29aa35",
       "IPY_MODEL_ef1d64c996904e17b7d647daa01b6e24",
       "IPY_MODEL_e85761de758b415997db2ae63e81fe6a"
      ],
      "layout": "IPY_MODEL_d79a70eec91f408ab208fd9f847e8134"
     }
    },
    "d15c1e1633a44e8485e318f3ab66dd70": {
     "model_module": "@jupyter-widgets/controls",
     "model_module_version": "1.5.0",
     "model_name": "DescriptionStyleModel",
     "state": {
      "_model_module": "@jupyter-widgets/controls",
      "_model_module_version": "1.5.0",
      "_model_name": "DescriptionStyleModel",
      "_view_count": null,
      "_view_module": "@jupyter-widgets/base",
      "_view_module_version": "1.2.0",
      "_view_name": "StyleView",
      "description_width": ""
     }
    },
    "d79a70eec91f408ab208fd9f847e8134": {
     "model_module": "@jupyter-widgets/base",
     "model_module_version": "1.2.0",
     "model_name": "LayoutModel",
     "state": {
      "_model_module": "@jupyter-widgets/base",
      "_model_module_version": "1.2.0",
      "_model_name": "LayoutModel",
      "_view_count": null,
      "_view_module": "@jupyter-widgets/base",
      "_view_module_version": "1.2.0",
      "_view_name": "LayoutView",
      "align_content": null,
      "align_items": null,
      "align_self": null,
      "border": null,
      "bottom": null,
      "display": null,
      "flex": null,
      "flex_flow": null,
      "grid_area": null,
      "grid_auto_columns": null,
      "grid_auto_flow": null,
      "grid_auto_rows": null,
      "grid_column": null,
      "grid_gap": null,
      "grid_row": null,
      "grid_template_areas": null,
      "grid_template_columns": null,
      "grid_template_rows": null,
      "height": null,
      "justify_content": null,
      "justify_items": null,
      "left": null,
      "margin": null,
      "max_height": null,
      "max_width": null,
      "min_height": null,
      "min_width": null,
      "object_fit": null,
      "object_position": null,
      "order": null,
      "overflow": null,
      "overflow_x": null,
      "overflow_y": null,
      "padding": null,
      "right": null,
      "top": null,
      "visibility": null,
      "width": null
     }
    },
    "d90e8fb52ac4405f89baed05bd6d204e": {
     "model_module": "@jupyter-widgets/base",
     "model_module_version": "1.2.0",
     "model_name": "LayoutModel",
     "state": {
      "_model_module": "@jupyter-widgets/base",
      "_model_module_version": "1.2.0",
      "_model_name": "LayoutModel",
      "_view_count": null,
      "_view_module": "@jupyter-widgets/base",
      "_view_module_version": "1.2.0",
      "_view_name": "LayoutView",
      "align_content": null,
      "align_items": null,
      "align_self": null,
      "border": null,
      "bottom": null,
      "display": null,
      "flex": null,
      "flex_flow": null,
      "grid_area": null,
      "grid_auto_columns": null,
      "grid_auto_flow": null,
      "grid_auto_rows": null,
      "grid_column": null,
      "grid_gap": null,
      "grid_row": null,
      "grid_template_areas": null,
      "grid_template_columns": null,
      "grid_template_rows": null,
      "height": null,
      "justify_content": null,
      "justify_items": null,
      "left": null,
      "margin": null,
      "max_height": null,
      "max_width": null,
      "min_height": null,
      "min_width": null,
      "object_fit": null,
      "object_position": null,
      "order": null,
      "overflow": null,
      "overflow_x": null,
      "overflow_y": null,
      "padding": null,
      "right": null,
      "top": null,
      "visibility": null,
      "width": null
     }
    },
    "e85761de758b415997db2ae63e81fe6a": {
     "model_module": "@jupyter-widgets/controls",
     "model_module_version": "1.5.0",
     "model_name": "HTMLModel",
     "state": {
      "_dom_classes": [],
      "_model_module": "@jupyter-widgets/controls",
      "_model_module_version": "1.5.0",
      "_model_name": "HTMLModel",
      "_view_count": null,
      "_view_module": "@jupyter-widgets/controls",
      "_view_module_version": "1.5.0",
      "_view_name": "HTMLView",
      "description": "",
      "description_tooltip": null,
      "layout": "IPY_MODEL_45d4703696784361900428f548f37ecc",
      "placeholder": "​",
      "style": "IPY_MODEL_d15c1e1633a44e8485e318f3ab66dd70",
      "value": " 1803/1803 [00:07&lt;00:00, 233.42 examples/s]"
     }
    },
    "e9f190d768df42cab5c0c118e40d97c2": {
     "model_module": "@jupyter-widgets/controls",
     "model_module_version": "1.5.0",
     "model_name": "FloatProgressModel",
     "state": {
      "_dom_classes": [],
      "_model_module": "@jupyter-widgets/controls",
      "_model_module_version": "1.5.0",
      "_model_name": "FloatProgressModel",
      "_view_count": null,
      "_view_module": "@jupyter-widgets/controls",
      "_view_module_version": "1.5.0",
      "_view_name": "ProgressView",
      "bar_style": "success",
      "description": "",
      "description_tooltip": null,
      "layout": "IPY_MODEL_6b631f1c39a6415d87eb80db8bdccc4c",
      "max": 1,
      "min": 0,
      "orientation": "horizontal",
      "style": "IPY_MODEL_ac144506684f45cb8e7e21e5f6940d06",
      "value": 1
     }
    },
    "ed8b5bbbddab4d9486c2d5ca4c7b88f5": {
     "model_module": "@jupyter-widgets/base",
     "model_module_version": "1.2.0",
     "model_name": "LayoutModel",
     "state": {
      "_model_module": "@jupyter-widgets/base",
      "_model_module_version": "1.2.0",
      "_model_name": "LayoutModel",
      "_view_count": null,
      "_view_module": "@jupyter-widgets/base",
      "_view_module_version": "1.2.0",
      "_view_name": "LayoutView",
      "align_content": null,
      "align_items": null,
      "align_self": null,
      "border": null,
      "bottom": null,
      "display": null,
      "flex": null,
      "flex_flow": null,
      "grid_area": null,
      "grid_auto_columns": null,
      "grid_auto_flow": null,
      "grid_auto_rows": null,
      "grid_column": null,
      "grid_gap": null,
      "grid_row": null,
      "grid_template_areas": null,
      "grid_template_columns": null,
      "grid_template_rows": null,
      "height": null,
      "justify_content": null,
      "justify_items": null,
      "left": null,
      "margin": null,
      "max_height": null,
      "max_width": null,
      "min_height": null,
      "min_width": null,
      "object_fit": null,
      "object_position": null,
      "order": null,
      "overflow": null,
      "overflow_x": null,
      "overflow_y": null,
      "padding": null,
      "right": null,
      "top": null,
      "visibility": null,
      "width": null
     }
    },
    "ef1d64c996904e17b7d647daa01b6e24": {
     "model_module": "@jupyter-widgets/controls",
     "model_module_version": "1.5.0",
     "model_name": "FloatProgressModel",
     "state": {
      "_dom_classes": [],
      "_model_module": "@jupyter-widgets/controls",
      "_model_module_version": "1.5.0",
      "_model_name": "FloatProgressModel",
      "_view_count": null,
      "_view_module": "@jupyter-widgets/controls",
      "_view_module_version": "1.5.0",
      "_view_name": "ProgressView",
      "bar_style": "success",
      "description": "",
      "description_tooltip": null,
      "layout": "IPY_MODEL_ed8b5bbbddab4d9486c2d5ca4c7b88f5",
      "max": 1803,
      "min": 0,
      "orientation": "horizontal",
      "style": "IPY_MODEL_432850d9a68b49beae7101109ecd044f",
      "value": 1803
     }
    }
   }
  }
 },
 "nbformat": 4,
 "nbformat_minor": 0
}
