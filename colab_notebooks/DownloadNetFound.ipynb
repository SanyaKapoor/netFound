{
 "cells": [
  {
   "cell_type": "code",
   "execution_count": 1,
   "metadata": {
    "colab": {
     "base_uri": "https://localhost:8080/"
    },
    "executionInfo": {
     "elapsed": 2643,
     "status": "ok",
     "timestamp": 1745423184541,
     "user": {
      "displayName": "ICTD IITD",
      "userId": "11419946949516230456"
     },
     "user_tz": -330
    },
    "id": "1xFLvwD_uIG7",
    "outputId": "97be655e-da12-4d6a-e327-ef70a9d42d67"
   },
   "outputs": [
    {
     "name": "stdout",
     "output_type": "stream",
     "text": [
      "Drive already mounted at /content/drive; to attempt to forcibly remount, call drive.mount(\"/content/drive\", force_remount=True).\n"
     ]
    }
   ],
   "source": [
    "from google.colab import drive\n",
    "drive.mount('/content/drive')"
   ]
  },
  {
   "cell_type": "code",
   "execution_count": null,
   "metadata": {
    "colab": {
     "base_uri": "https://localhost:8080/"
    },
    "executionInfo": {
     "elapsed": 122,
     "status": "ok",
     "timestamp": 1745423248406,
     "user": {
      "displayName": "ICTD IITD",
      "userId": "11419946949516230456"
     },
     "user_tz": -330
    },
    "id": "vXGO_BGTUy8J",
    "outputId": "180bcfa8-215b-48b9-d4c0-9e32b917e56f"
   },
   "outputs": [
    {
     "name": "stdout",
     "output_type": "stream",
     "text": [
      "combined  shards\n"
     ]
    }
   ],
   "source": [
    "!ls /content/drive/MyDrive/netFound/data/test/test_finetuning/final/"
   ]
  },
  {
   "cell_type": "code",
   "execution_count": null,
   "metadata": {
    "colab": {
     "base_uri": "https://localhost:8080/"
    },
    "executionInfo": {
     "elapsed": 7,
     "status": "ok",
     "timestamp": 1744977018776,
     "user": {
      "displayName": "Shiva",
      "userId": "03583737290382297870"
     },
     "user_tz": -330
    },
    "id": "NHpAEG4juKJz",
    "outputId": "47c8a28b-11ad-4356-daa5-c755fd0067e4"
   },
   "outputs": [
    {
     "name": "stdout",
     "output_type": "stream",
     "text": [
      "/content/drive/MyDrive/COL867/NetFound/Shiva_Folder/netFound/models/test/pretraining\n"
     ]
    }
   ],
   "source": [
    "cd /content/drive/MyDrive/netFound/models/test/pretraining/"
   ]
  },
  {
   "cell_type": "code",
   "execution_count": null,
   "metadata": {
    "colab": {
     "base_uri": "https://localhost:8080/"
    },
    "executionInfo": {
     "elapsed": 707,
     "status": "ok",
     "timestamp": 1744977055286,
     "user": {
      "displayName": "Shiva",
      "userId": "03583737290382297870"
     },
     "user_tz": -330
    },
    "id": "N4LSKqZtvElm",
    "outputId": "3fb40c6a-28aa-450b-f367-5eee56af5074"
   },
   "outputs": [
    {
     "name": "stdout",
     "output_type": "stream",
     "text": [
      "--2025-04-18 11:50:54--  https://huggingface.co/snlucsb/netFound-640M-base/resolve/main/.gitattributes?download=true\n",
      "Resolving huggingface.co (huggingface.co)... 3.169.137.19, 3.169.137.119, 3.169.137.5, ...\n",
      "Connecting to huggingface.co (huggingface.co)|3.169.137.19|:443... connected.\n",
      "HTTP request sent, awaiting response... 200 OK\n",
      "Length: 1519 (1.5K) [text/plain]\n",
      "Saving to: ‘.gitattributes?download=true’\n",
      "\n",
      ".gitattributes?down 100%[===================>]   1.48K  --.-KB/s    in 0s      \n",
      "\n",
      "2025-04-18 11:50:55 (188 MB/s) - ‘.gitattributes?download=true’ saved [1519/1519]\n",
      "\n"
     ]
    }
   ],
   "source": [
    "!wget https://huggingface.co/snlucsb/netFound-640M-base/resolve/main/.gitattributes?download=true"
   ]
  },
  {
   "cell_type": "code",
   "execution_count": null,
   "metadata": {
    "colab": {
     "base_uri": "https://localhost:8080/"
    },
    "executionInfo": {
     "elapsed": 317,
     "status": "ok",
     "timestamp": 1744977073067,
     "user": {
      "displayName": "Shiva",
      "userId": "03583737290382297870"
     },
     "user_tz": -330
    },
    "id": "0FkwFdEtvMq-",
    "outputId": "ee68bae9-33a3-487a-9942-59f22ee8b310"
   },
   "outputs": [
    {
     "name": "stdout",
     "output_type": "stream",
     "text": [
      "--2025-04-18 11:51:12--  https://huggingface.co/snlucsb/netFound-640M-base/resolve/main/README.md?download=true\n",
      "Resolving huggingface.co (huggingface.co)... 3.169.137.19, 3.169.137.119, 3.169.137.5, ...\n",
      "Connecting to huggingface.co (huggingface.co)|3.169.137.19|:443... connected.\n",
      "HTTP request sent, awaiting response... 200 OK\n",
      "Length: 1367 (1.3K) [text/plain]\n",
      "Saving to: ‘README.md?download=true’\n",
      "\n",
      "README.md?download= 100%[===================>]   1.33K  --.-KB/s    in 0s      \n",
      "\n",
      "2025-04-18 11:51:13 (168 MB/s) - ‘README.md?download=true’ saved [1367/1367]\n",
      "\n"
     ]
    }
   ],
   "source": [
    "!wget https://huggingface.co/snlucsb/netFound-640M-base/resolve/main/README.md?download=true"
   ]
  },
  {
   "cell_type": "code",
   "execution_count": null,
   "metadata": {
    "colab": {
     "base_uri": "https://localhost:8080/"
    },
    "executionInfo": {
     "elapsed": 708,
     "status": "ok",
     "timestamp": 1744977082725,
     "user": {
      "displayName": "Shiva",
      "userId": "03583737290382297870"
     },
     "user_tz": -330
    },
    "id": "_11bHaiUvRG-",
    "outputId": "1d0867de-3de1-4acc-96ad-037fe9903773"
   },
   "outputs": [
    {
     "name": "stdout",
     "output_type": "stream",
     "text": [
      "--2025-04-18 11:51:22--  https://huggingface.co/snlucsb/netFound-640M-base/resolve/main/config.json?download=true\n",
      "Resolving huggingface.co (huggingface.co)... 3.169.137.111, 3.169.137.119, 3.169.137.19, ...\n",
      "Connecting to huggingface.co (huggingface.co)|3.169.137.111|:443... connected.\n",
      "HTTP request sent, awaiting response... 200 OK\n",
      "Length: 1104 (1.1K) [text/plain]\n",
      "Saving to: ‘config.json?download=true’\n",
      "\n",
      "config.json?downloa 100%[===================>]   1.08K  --.-KB/s    in 0s      \n",
      "\n",
      "2025-04-18 11:51:22 (147 MB/s) - ‘config.json?download=true’ saved [1104/1104]\n",
      "\n"
     ]
    }
   ],
   "source": [
    "!wget https://huggingface.co/snlucsb/netFound-640M-base/resolve/main/config.json?download=true"
   ]
  },
  {
   "cell_type": "code",
   "execution_count": null,
   "metadata": {
    "colab": {
     "base_uri": "https://localhost:8080/"
    },
    "executionInfo": {
     "elapsed": 104709,
     "status": "ok",
     "timestamp": 1744977195803,
     "user": {
      "displayName": "Shiva",
      "userId": "03583737290382297870"
     },
     "user_tz": -330
    },
    "id": "3xd6cJvivTXp",
    "outputId": "8016f955-41da-4782-b8a5-9470ad162e76"
   },
   "outputs": [
    {
     "name": "stdout",
     "output_type": "stream",
     "text": [
      "--2025-04-18 11:51:31--  https://huggingface.co/snlucsb/netFound-640M-base/resolve/main/pytorch_model.bin?download=true\n",
      "Resolving huggingface.co (huggingface.co)... 3.169.137.111, 3.169.137.119, 3.169.137.19, ...\n",
      "Connecting to huggingface.co (huggingface.co)|3.169.137.111|:443... connected.\n",
      "HTTP request sent, awaiting response... 302 Found\n",
      "Location: https://cdn-lfs-us-1.hf.co/repos/6a/f3/6af398ecd1c177cee3dc9c41bbc7f03a25f0a30c8b536cc8de4fa8b216712dcd/abd648c5f1f7fcbeca950053ef7f5e57aa22ef34b118ca8273f07cd0ea7da463?response-content-disposition=attachment%3B+filename*%3DUTF-8%27%27pytorch_model.bin%3B+filename%3D%22pytorch_model.bin%22%3B&response-content-type=application%2Foctet-stream&Expires=1744980691&Policy=eyJTdGF0ZW1lbnQiOlt7IkNvbmRpdGlvbiI6eyJEYXRlTGVzc1RoYW4iOnsiQVdTOkVwb2NoVGltZSI6MTc0NDk4MDY5MX19LCJSZXNvdXJjZSI6Imh0dHBzOi8vY2RuLWxmcy11cy0xLmhmLmNvL3JlcG9zLzZhL2YzLzZhZjM5OGVjZDFjMTc3Y2VlM2RjOWM0MWJiYzdmMDNhMjVmMGEzMGM4YjUzNmNjOGRlNGZhOGIyMTY3MTJkY2QvYWJkNjQ4YzVmMWY3ZmNiZWNhOTUwMDUzZWY3ZjVlNTdhYTIyZWYzNGIxMThjYTgyNzNmMDdjZDBlYTdkYTQ2Mz9yZXNwb25zZS1jb250ZW50LWRpc3Bvc2l0aW9uPSomcmVzcG9uc2UtY29udGVudC10eXBlPSoifV19&Signature=WYtC8L4E7PYz%7E5vIUCK387zl68FzGzIyIEwHmuF1K-k8XCe-BUdfe-sGJKEnc%7EGqBJpFDVmjLnXMQnxZs%7EhyMe5OCfx%7ESSYHYyEw9-5h0nna2eMCCWc19fcS%7ECkViG2M164dwZRfTQD9QdMioJ0gdSJ8cdjypDeMSANeGp388TQAyv1RkrbgQ1V5GcPf6ak7w99w4%7EyVHaCD1MwBcX9vXZSszXLdRPSv-TXAc8%7EkijcMdVGSxlA4-AXl3dV5XBeab%7Eo3IMXvITSDEqzk6bZmflWpp6rBHuFrnAsTEflZ-MJ-53bKeLMa0MmoObXI50IviG1kbo2AZ9PdM5v2NJ%7EfHw__&Key-Pair-Id=K24J24Z295AEI9 [following]\n",
      "--2025-04-18 11:51:31--  https://cdn-lfs-us-1.hf.co/repos/6a/f3/6af398ecd1c177cee3dc9c41bbc7f03a25f0a30c8b536cc8de4fa8b216712dcd/abd648c5f1f7fcbeca950053ef7f5e57aa22ef34b118ca8273f07cd0ea7da463?response-content-disposition=attachment%3B+filename*%3DUTF-8%27%27pytorch_model.bin%3B+filename%3D%22pytorch_model.bin%22%3B&response-content-type=application%2Foctet-stream&Expires=1744980691&Policy=eyJTdGF0ZW1lbnQiOlt7IkNvbmRpdGlvbiI6eyJEYXRlTGVzc1RoYW4iOnsiQVdTOkVwb2NoVGltZSI6MTc0NDk4MDY5MX19LCJSZXNvdXJjZSI6Imh0dHBzOi8vY2RuLWxmcy11cy0xLmhmLmNvL3JlcG9zLzZhL2YzLzZhZjM5OGVjZDFjMTc3Y2VlM2RjOWM0MWJiYzdmMDNhMjVmMGEzMGM4YjUzNmNjOGRlNGZhOGIyMTY3MTJkY2QvYWJkNjQ4YzVmMWY3ZmNiZWNhOTUwMDUzZWY3ZjVlNTdhYTIyZWYzNGIxMThjYTgyNzNmMDdjZDBlYTdkYTQ2Mz9yZXNwb25zZS1jb250ZW50LWRpc3Bvc2l0aW9uPSomcmVzcG9uc2UtY29udGVudC10eXBlPSoifV19&Signature=WYtC8L4E7PYz%7E5vIUCK387zl68FzGzIyIEwHmuF1K-k8XCe-BUdfe-sGJKEnc%7EGqBJpFDVmjLnXMQnxZs%7EhyMe5OCfx%7ESSYHYyEw9-5h0nna2eMCCWc19fcS%7ECkViG2M164dwZRfTQD9QdMioJ0gdSJ8cdjypDeMSANeGp388TQAyv1RkrbgQ1V5GcPf6ak7w99w4%7EyVHaCD1MwBcX9vXZSszXLdRPSv-TXAc8%7EkijcMdVGSxlA4-AXl3dV5XBeab%7Eo3IMXvITSDEqzk6bZmflWpp6rBHuFrnAsTEflZ-MJ-53bKeLMa0MmoObXI50IviG1kbo2AZ9PdM5v2NJ%7EfHw__&Key-Pair-Id=K24J24Z295AEI9\n",
      "Resolving cdn-lfs-us-1.hf.co (cdn-lfs-us-1.hf.co)... 13.35.166.54, 13.35.166.94, 13.35.166.40, ...\n",
      "Connecting to cdn-lfs-us-1.hf.co (cdn-lfs-us-1.hf.co)|13.35.166.54|:443... connected.\n",
      "HTTP request sent, awaiting response... 200 OK\n",
      "Length: 2847569354 (2.7G) [application/octet-stream]\n",
      "Saving to: ‘pytorch_model.bin?download=true’\n",
      "\n",
      "pytorch_model.bin?d 100%[===================>]   2.65G  26.6MB/s    in 1m 43s  \n",
      "\n",
      "2025-04-18 11:53:15 (26.3 MB/s) - ‘pytorch_model.bin?download=true’ saved [2847569354/2847569354]\n",
      "\n"
     ]
    }
   ],
   "source": [
    "!wget https://huggingface.co/snlucsb/netFound-640M-base/resolve/main/pytorch_model.bin?download=true"
   ]
  },
  {
   "cell_type": "code",
   "execution_count": null,
   "metadata": {
    "id": "y9fU4LvuvVlb"
   },
   "outputs": [],
   "source": [
    "!mv pytorch_model.bin ./pretrained_model/"
   ]
  },
  {
   "cell_type": "code",
   "execution_count": null,
   "metadata": {
    "id": "q0VvVA_cv0Tq"
   },
   "outputs": [],
   "source": [
    "!mv config.json ./pretrained_model/"
   ]
  },
  {
   "cell_type": "code",
   "execution_count": null,
   "metadata": {
    "id": "NR9jOpLRv9r8"
   },
   "outputs": [],
   "source": [
    "!mv README.md ./pretrained_model/"
   ]
  },
  {
   "cell_type": "code",
   "execution_count": null,
   "metadata": {
    "colab": {
     "base_uri": "https://localhost:8080/"
    },
    "executionInfo": {
     "elapsed": 136,
     "status": "ok",
     "timestamp": 1744977461138,
     "user": {
      "displayName": "Shiva",
      "userId": "03583737290382297870"
     },
     "user_tz": -330
    },
    "id": "pZoU4ihmwFWj",
    "outputId": "f8e3a424-5b8d-4aec-ce9b-b11ddac7acc7"
   },
   "outputs": [
    {
     "name": "stdout",
     "output_type": "stream",
     "text": [
      "config.json  .gitattributes  pytorch_model.bin\tREADME.md\n"
     ]
    }
   ],
   "source": [
    "!ls -a pretrained_model"
   ]
  }
 ],
 "metadata": {
  "colab": {
   "provenance": []
  },
  "kernelspec": {
   "display_name": "Python 3",
   "name": "python3"
  },
  "language_info": {
   "name": "python"
  }
 },
 "nbformat": 4,
 "nbformat_minor": 0
}
