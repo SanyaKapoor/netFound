{
 "cells": [
  {
   "cell_type": "markdown",
   "metadata": {
    "id": "ra_3zSyiQ85k"
   },
   "source": [
    "# Setup"
   ]
  },
  {
   "cell_type": "code",
   "execution_count": null,
   "metadata": {
    "colab": {
     "base_uri": "https://localhost:8080/"
    },
    "executionInfo": {
     "elapsed": 117,
     "status": "ok",
     "timestamp": 1745504872636,
     "user": {
      "displayName": "Shiva",
      "userId": "03583737290382297870"
     },
     "user_tz": -330
    },
    "id": "r-aHvYot9Zsh",
    "outputId": "a9f82884-c9c1-49a3-d038-5ce3c8469445"
   },
   "outputs": [],
   "source": [
    "!nvidia-smi"
   ]
  },
  {
   "cell_type": "code",
   "execution_count": null,
   "metadata": {
    "colab": {
     "base_uri": "https://localhost:8080/"
    },
    "executionInfo": {
     "elapsed": 50,
     "status": "ok",
     "timestamp": 1745504872689,
     "user": {
      "displayName": "Shiva",
      "userId": "03583737290382297870"
     },
     "user_tz": -330
    },
    "id": "i05OqNTkzJOl",
    "outputId": "2b15b065-17da-4a8f-a0e9-3981aabf1f77"
   },
   "outputs": [],
   "source": [
    "import os\n",
    "os.cpu_count()"
   ]
  },
  {
   "cell_type": "code",
   "execution_count": null,
   "metadata": {
    "colab": {
     "base_uri": "https://localhost:8080/"
    },
    "executionInfo": {
     "elapsed": 33058,
     "status": "ok",
     "timestamp": 1745504905752,
     "user": {
      "displayName": "Shiva",
      "userId": "03583737290382297870"
     },
     "user_tz": -330
    },
    "id": "KZixa7p6EbmD",
    "outputId": "7e092714-1485-4576-9ae8-2c1048dbe78a"
   },
   "outputs": [],
   "source": [
    "from google.colab import drive\n",
    "drive.mount('/content/drive')"
   ]
  },
  {
   "cell_type": "code",
   "execution_count": null,
   "metadata": {
    "colab": {
     "base_uri": "https://localhost:8080/"
    },
    "collapsed": true,
    "executionInfo": {
     "elapsed": 74179,
     "status": "ok",
     "timestamp": 1745429383000,
     "user": {
      "displayName": "ICTD IITD",
      "userId": "11419946949516230456"
     },
     "user_tz": -330
    },
    "id": "mkEWSLIdthba",
    "outputId": "f78d9cc6-dd73-4d1d-a195-d57ede4633ea"
   },
   "outputs": [],
   "source": [
    "cd /content/drive/MyDrive/"
   ]
  },
  {
   "cell_type": "code",
   "execution_count": null,
   "metadata": {
    "id": "gNT1aWhw7nm4"
   },
   "outputs": [],
   "source": [
    "# !rm -r netFound"
   ]
  },
  {
   "cell_type": "code",
   "execution_count": null,
   "metadata": {
    "collapsed": true,
    "id": "gh_u6onQtvpB"
   },
   "outputs": [],
   "source": [
    "# !git clone https://github.com/SNL-UCSB/netFound.git"
   ]
  },
  {
   "cell_type": "code",
   "execution_count": null,
   "metadata": {
    "colab": {
     "base_uri": "https://localhost:8080/"
    },
    "collapsed": true,
    "executionInfo": {
     "elapsed": 231,
     "status": "ok",
     "timestamp": 1745429383251,
     "user": {
      "displayName": "ICTD IITD",
      "userId": "11419946949516230456"
     },
     "user_tz": -330
    },
    "id": "loIoyFmnt68R",
    "outputId": "8b42d053-ef53-4420-c895-9989081e0ff7"
   },
   "outputs": [],
   "source": [
    "cd netFound"
   ]
  },
  {
   "cell_type": "code",
   "execution_count": null,
   "metadata": {
    "colab": {
     "base_uri": "https://localhost:8080/"
    },
    "collapsed": true,
    "executionInfo": {
     "elapsed": 42269,
     "status": "ok",
     "timestamp": 1745429425523,
     "user": {
      "displayName": "ICTD IITD",
      "userId": "11419946949516230456"
     },
     "user_tz": -330
    },
    "id": "TXK0vY6EtdLN",
    "outputId": "19a1863c-84d7-442e-def9-d7bae667587e"
   },
   "outputs": [],
   "source": [
    "!apt-get update && apt-get upgrade -y\n",
    "!apt-get install -y --no-install-recommends gcc python3-dev wget graphviz parallel nano make cmake g++ libpcap-dev"
   ]
  },
  {
   "cell_type": "code",
   "execution_count": null,
   "metadata": {
    "colab": {
     "base_uri": "https://localhost:8080/"
    },
    "collapsed": true,
    "executionInfo": {
     "elapsed": 77915,
     "status": "ok",
     "timestamp": 1745429503468,
     "user": {
      "displayName": "ICTD IITD",
      "userId": "11419946949516230456"
     },
     "user_tz": -330
    },
    "id": "PNLTEBpIuPVE",
    "outputId": "a69f9780-41e0-4003-dd72-658b4e1327a7"
   },
   "outputs": [],
   "source": [
    "!pip install --no-cache-dir -r requirements.txt"
   ]
  },
  {
   "cell_type": "code",
   "execution_count": null,
   "metadata": {
    "id": "OErwIeduk8mP"
   },
   "outputs": [],
   "source": [
    "!rm -rf '/usr/local/pcapplusplus-24.09-ubuntu-22.04-gcc-11.4.0-x86_64'"
   ]
  },
  {
   "cell_type": "code",
   "execution_count": null,
   "metadata": {
    "colab": {
     "base_uri": "https://localhost:8080/"
    },
    "collapsed": true,
    "executionInfo": {
     "elapsed": 2717,
     "status": "ok",
     "timestamp": 1745429506305,
     "user": {
      "displayName": "ICTD IITD",
      "userId": "11419946949516230456"
     },
     "user_tz": -330
    },
    "id": "HUFZjnRWuYDs",
    "outputId": "77c6daef-09de-49a6-85e0-fa82534ed1b5"
   },
   "outputs": [],
   "source": [
    "!wget https://github.com/seladb/PcapPlusPlus/releases/download/v24.09/pcapplusplus-24.09-ubuntu-22.04-gcc-11.4.0-x86_64.tar.gz\n",
    "!tar -xvf pcapplusplus-24.09-ubuntu-22.04-gcc-11.4.0-x86_64.tar.gz\n",
    "!rm pcapplusplus-24.09-ubuntu-22.04-gcc-11.4.0-x86_64.tar.gz\n",
    "!mv pcapplusplus-24.09-ubuntu-22.04-gcc-11.4.0-x86_64 /usr/local/\n",
    "!ln -s /usr/local/pcapplusplus-24.09-ubuntu-22.04-gcc-11.4.0-x86_64 /usr/local/pcapplusplus"
   ]
  },
  {
   "cell_type": "code",
   "execution_count": null,
   "metadata": {
    "id": "Yx8ndZ2Cu-df"
   },
   "outputs": [],
   "source": [
    "import os\n",
    "os.environ[\"PATH\"] += os.pathsep + \"/usr/local/pcapplusplus/bin\""
   ]
  },
  {
   "cell_type": "code",
   "execution_count": null,
   "metadata": {
    "colab": {
     "base_uri": "https://localhost:8080/"
    },
    "collapsed": true,
    "executionInfo": {
     "elapsed": 41152,
     "status": "ok",
     "timestamp": 1745429547504,
     "user": {
      "displayName": "ICTD IITD",
      "userId": "11419946949516230456"
     },
     "user_tz": -330
    },
    "id": "H7RDQQ7ItWwV",
    "outputId": "39311d4f-5600-44d1-ef41-b74e3f254d74"
   },
   "outputs": [],
   "source": [
    "!find . -type f -name \"*.sh\""
   ]
  },
  {
   "cell_type": "code",
   "execution_count": null,
   "metadata": {
    "id": "xSl4IOqxtbVg"
   },
   "outputs": [],
   "source": [
    "!chmod +x ./scripts/finetune-test.sh\n",
    "!chmod +x ./scripts/pretrain-test.sh\n",
    "!chmod +x ./src/pre_process/1_filter.sh\n",
    "!chmod +x ./src/pre_process/2_pcap_splitting.sh\n",
    "!chmod +x ./src/pre_process/3_extract_fields.sh"
   ]
  },
  {
   "cell_type": "code",
   "execution_count": null,
   "metadata": {
    "id": "taf6U0FivGpO"
   },
   "outputs": [],
   "source": [
    "PREPROCESS_SRC_DIR = \"src/pre_process/packets_processing_src\"\n",
    "PREPROCESS_BUILD_DIR = \"build/preprocess\"\n",
    "DATA_DIR = \"data/test\""
   ]
  },
  {
   "cell_type": "code",
   "execution_count": null,
   "metadata": {
    "colab": {
     "base_uri": "https://localhost:8080/"
    },
    "collapsed": true,
    "executionInfo": {
     "elapsed": 23,
     "status": "ok",
     "timestamp": 1745429548207,
     "user": {
      "displayName": "ICTD IITD",
      "userId": "11419946949516230456"
     },
     "user_tz": -330
    },
    "id": "fb5QSClAjOhM",
    "outputId": "71838eaf-33fe-41a8-fe21-ed679638c2aa"
   },
   "outputs": [],
   "source": [
    "!ls src/pre_process/"
   ]
  },
  {
   "cell_type": "code",
   "execution_count": null,
   "metadata": {
    "id": "f7OD1b-bvGmX"
   },
   "outputs": [],
   "source": [
    "!rm -rf {PREPROCESS_BUILD_DIR}\n",
    "!rm -f src/pre_process/1_filter\n",
    "!rm -f src/pre_process/3_field_extraction"
   ]
  },
  {
   "cell_type": "code",
   "execution_count": null,
   "metadata": {
    "id": "MviMdaSTvGjb"
   },
   "outputs": [],
   "source": [
    "!mkdir -p {PREPROCESS_BUILD_DIR}"
   ]
  },
  {
   "cell_type": "code",
   "execution_count": null,
   "metadata": {
    "colab": {
     "base_uri": "https://localhost:8080/"
    },
    "collapsed": true,
    "executionInfo": {
     "elapsed": 4912,
     "status": "ok",
     "timestamp": 1745429553674,
     "user": {
      "displayName": "ICTD IITD",
      "userId": "11419946949516230456"
     },
     "user_tz": -330
    },
    "id": "d2OiLMXcvGgX",
    "outputId": "631e3b0b-1c82-4a81-a5f3-e087f8175066"
   },
   "outputs": [],
   "source": [
    "!cmake -S {PREPROCESS_SRC_DIR} -B {PREPROCESS_BUILD_DIR}"
   ]
  },
  {
   "cell_type": "code",
   "execution_count": null,
   "metadata": {
    "colab": {
     "base_uri": "https://localhost:8080/"
    },
    "collapsed": true,
    "executionInfo": {
     "elapsed": 4607,
     "status": "ok",
     "timestamp": 1745429558292,
     "user": {
      "displayName": "ICTD IITD",
      "userId": "11419946949516230456"
     },
     "user_tz": -330
    },
    "id": "vzpzAfrqvGc_",
    "outputId": "615a367e-1ddd-4c18-cc90-85d9709c5bc1"
   },
   "outputs": [],
   "source": [
    "!make -C {PREPROCESS_BUILD_DIR}"
   ]
  },
  {
   "cell_type": "code",
   "execution_count": null,
   "metadata": {
    "id": "d6rCzmclwHrx"
   },
   "outputs": [],
   "source": [
    "!cp {PREPROCESS_BUILD_DIR}/1_filter src/pre_process/1_filter"
   ]
  },
  {
   "cell_type": "code",
   "execution_count": null,
   "metadata": {
    "id": "hYu7u5PKwG8-"
   },
   "outputs": [],
   "source": [
    "!cp {PREPROCESS_BUILD_DIR}/3_field_extraction src/pre_process/3_field_extraction"
   ]
  },
  {
   "cell_type": "code",
   "execution_count": null,
   "metadata": {
    "colab": {
     "base_uri": "https://localhost:8080/"
    },
    "executionInfo": {
     "elapsed": 146,
     "status": "ok",
     "timestamp": 1745429558657,
     "user": {
      "displayName": "ICTD IITD",
      "userId": "11419946949516230456"
     },
     "user_tz": -330
    },
    "id": "zoySyp3fwGMk",
    "outputId": "f04454e3-cba8-4225-899d-7ef29bc23eac"
   },
   "outputs": [],
   "source": [
    "!ls {DATA_DIR}/finetuning/raw/*"
   ]
  },
  {
   "cell_type": "code",
   "execution_count": null,
   "metadata": {
    "id": "fJ4pBIdMwtq4"
   },
   "outputs": [],
   "source": [
    "!chmod +x src/pre_process/1_filter\n",
    "!chmod +x src/pre_process/3_field_extraction"
   ]
  },
  {
   "cell_type": "markdown",
   "metadata": {
    "id": "SnQDhh-cQ_-v"
   },
   "source": [
    "# Pretraining"
   ]
  },
  {
   "cell_type": "code",
   "execution_count": null,
   "metadata": {
    "colab": {
     "base_uri": "https://localhost:8080/"
    },
    "executionInfo": {
     "elapsed": 219,
     "status": "ok",
     "timestamp": 1745424280991,
     "user": {
      "displayName": "ICTD IITD",
      "userId": "11419946949516230456"
     },
     "user_tz": -330
    },
    "id": "p9vlVtIPiNCF",
    "outputId": "31667ce2-8b66-46a5-81ff-4ed906bdb870"
   },
   "outputs": [],
   "source": [
    "!nvidia-smi"
   ]
  },
  {
   "cell_type": "code",
   "execution_count": null,
   "metadata": {
    "id": "a8hEZghdRE6m"
   },
   "outputs": [],
   "source": [
    "data_folder = \"data/test/finetuning/final/combined/\"\n",
    "model_output_dir = \"models/test/pretraining/pretrained_model/\""
   ]
  },
  {
   "cell_type": "code",
   "execution_count": null,
   "metadata": {
    "id": "LDUIcl0lRE3j"
   },
   "outputs": [],
   "source": [
    "!mkdir -p {model_output_dir}"
   ]
  },
  {
   "cell_type": "code",
   "execution_count": null,
   "metadata": {
    "id": "QPgTqyzpRE0W"
   },
   "outputs": [],
   "source": [
    "!rm -rf {model_output_dir}/*"
   ]
  },
  {
   "cell_type": "code",
   "execution_count": null,
   "metadata": {
    "colab": {
     "base_uri": "https://localhost:8080/"
    },
    "collapsed": true,
    "executionInfo": {
     "elapsed": 3309654,
     "status": "ok",
     "timestamp": 1745428730998,
     "user": {
      "displayName": "ICTD IITD",
      "userId": "11419946949516230456"
     },
     "user_tz": -330
    },
    "id": "eZlU9c0ZRExe",
    "outputId": "e64ab604-70ec-4442-aefc-75cfbfc3c21d"
   },
   "outputs": [],
   "source": [
    "!python src/train/NetfoundPretraining.py --train_dir {data_folder} --output_dir {model_output_dir} --report_to tensorboard --do_train --num_train_epochs 50 --overwrite_output_dir --save_safetensors false --mlm_probability 0.10 --learning_rate 2e-5 --do_eval --validation_split_percentage 30"
   ]
  },
  {
   "cell_type": "code",
   "execution_count": null,
   "metadata": {
    "colab": {
     "base_uri": "https://localhost:8080/"
    },
    "executionInfo": {
     "elapsed": 119,
     "status": "ok",
     "timestamp": 1745428731186,
     "user": {
      "displayName": "ICTD IITD",
      "userId": "11419946949516230456"
     },
     "user_tz": -330
    },
    "id": "y6zjXUcCeFA4",
    "outputId": "900fc298-85c1-42ca-a3e5-3755f710a9c0"
   },
   "outputs": [],
   "source": [
    "!ls {model_output_dir}"
   ]
  },
  {
   "cell_type": "code",
   "execution_count": null,
   "metadata": {
    "id": "y20P-zQFeO84"
   },
   "outputs": [],
   "source": [
    "# from google.colab import runtime\n",
    "# runtime.unassign()"
   ]
  },
  {
   "cell_type": "markdown",
   "metadata": {
    "id": "MGxWp6d3X26d"
   },
   "source": [
    "# Finetuning"
   ]
  },
  {
   "cell_type": "code",
   "execution_count": null,
   "metadata": {
    "colab": {
     "base_uri": "https://localhost:8080/"
    },
    "executionInfo": {
     "elapsed": 241,
     "status": "ok",
     "timestamp": 1745429559063,
     "user": {
      "displayName": "ICTD IITD",
      "userId": "11419946949516230456"
     },
     "user_tz": -330
    },
    "id": "uuLy0uHqRErz",
    "outputId": "a48f3f66-990b-487d-9924-0520b78f5fc6"
   },
   "outputs": [],
   "source": [
    "!nvidia-smi"
   ]
  },
  {
   "cell_type": "code",
   "execution_count": null,
   "metadata": {
    "id": "gOXEYJtorXGE"
   },
   "outputs": [],
   "source": [
    "data_folder = \"data/test/finetuning/final/combined/\"\n",
    "pretrained_model_dir = \"models/test/pretraining/pretrained_model\"\n",
    "model_output_dir = \"models/test/finetuning/finetuned_model\""
   ]
  },
  {
   "cell_type": "code",
   "execution_count": null,
   "metadata": {
    "id": "PzLF9rKdrxy8"
   },
   "outputs": [],
   "source": [
    "!mkdir -p {model_output_dir}"
   ]
  },
  {
   "cell_type": "code",
   "execution_count": null,
   "metadata": {
    "id": "5EIj7FL5ryHe"
   },
   "outputs": [],
   "source": [
    "!rm -rf {model_output_dir}/*"
   ]
  },
  {
   "cell_type": "code",
   "execution_count": null,
   "metadata": {
    "colab": {
     "base_uri": "https://localhost:8080/"
    },
    "id": "voQVJYlTrXDD",
    "outputId": "c3e055b8-5d92-4a1d-d365-2e9e0c53833b"
   },
   "outputs": [],
   "source": [
    "!python src/train/NetfoundFinetuning.py --train_dir {data_folder} --test_dir {data_folder} --model_name_or_path {pretrained_model_dir} --output_dir {model_output_dir} --report_to tensorboard --overwrite_output_dir --save_safetensors false --do_train --do_eval --eval_strategy epoch --save_strategy epoch --learning_rate 0.01 --num_train_epochs 10 --problem_type single_label_classification --num_labels 6 --load_best_model_at_end"
   ]
  },
  {
   "cell_type": "code",
   "execution_count": null,
   "metadata": {
    "id": "Gk7wtmvYrW_y"
   },
   "outputs": [],
   "source": [
    "!ls {model_output_dir}"
   ]
  },
  {
   "cell_type": "code",
   "execution_count": null,
   "metadata": {
    "id": "vwpjbFWfrW8-"
   },
   "outputs": [],
   "source": [
    "# from google.colab import runtime\n",
    "# runtime.unassign()"
   ]
  }
 ],
 "metadata": {
  "colab": {
   "collapsed_sections": [
    "SnQDhh-cQ_-v",
    "RNhfImvPsDet"
   ],
   "provenance": []
  },
  "kernelspec": {
   "display_name": "Python 3",
   "name": "python3"
  },
  "language_info": {
   "name": "python"
  }
 },
 "nbformat": 4,
 "nbformat_minor": 0
}
