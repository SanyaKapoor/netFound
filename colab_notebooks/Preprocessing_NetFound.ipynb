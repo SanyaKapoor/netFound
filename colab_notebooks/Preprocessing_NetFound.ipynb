{
 "cells": [
  {
   "cell_type": "markdown",
   "metadata": {
    "id": "VSJiM-MHbOJI"
   },
   "source": [
    "# Setup"
   ]
  },
  {
   "cell_type": "code",
   "execution_count": null,
   "metadata": {
    "colab": {
     "base_uri": "https://localhost:8080/"
    },
    "executionInfo": {
     "elapsed": 10,
     "status": "ok",
     "timestamp": 1745424779958,
     "user": {
      "displayName": "ICTD IITD",
      "userId": "11419946949516230456"
     },
     "user_tz": -330
    },
    "id": "i05OqNTkzJOl",
    "outputId": "8fbc6dfa-f9bb-4cfe-8055-f26145395ddb"
   },
   "outputs": [],
   "source": [
    "import os\n",
    "os.cpu_count()"
   ]
  },
  {
   "cell_type": "code",
   "execution_count": null,
   "metadata": {
    "colab": {
     "base_uri": "https://localhost:8080/"
    },
    "executionInfo": {
     "elapsed": 18584,
     "status": "ok",
     "timestamp": 1745424798543,
     "user": {
      "displayName": "ICTD IITD",
      "userId": "11419946949516230456"
     },
     "user_tz": -330
    },
    "id": "KZixa7p6EbmD",
    "outputId": "c406237c-db7b-4b7f-a2e2-98af39a489ea"
   },
   "outputs": [],
   "source": [
    "from google.colab import drive\n",
    "drive.mount('/content/drive')"
   ]
  },
  {
   "cell_type": "code",
   "execution_count": null,
   "metadata": {
    "colab": {
     "base_uri": "https://localhost:8080/"
    },
    "collapsed": true,
    "executionInfo": {
     "elapsed": 61450,
     "status": "ok",
     "timestamp": 1745424859994,
     "user": {
      "displayName": "ICTD IITD",
      "userId": "11419946949516230456"
     },
     "user_tz": -330
    },
    "id": "mkEWSLIdthba",
    "outputId": "912f2e19-6cb2-4edb-9ef8-928e328d69ad"
   },
   "outputs": [],
   "source": [
    "cd /content/drive/MyDrive/"
   ]
  },
  {
   "cell_type": "code",
   "execution_count": null,
   "metadata": {
    "executionInfo": {
     "elapsed": 4,
     "status": "ok",
     "timestamp": 1745424859996,
     "user": {
      "displayName": "ICTD IITD",
      "userId": "11419946949516230456"
     },
     "user_tz": -330
    },
    "id": "gNT1aWhw7nm4"
   },
   "outputs": [],
   "source": [
    "# !rm -r netFound"
   ]
  },
  {
   "cell_type": "code",
   "execution_count": null,
   "metadata": {
    "collapsed": true,
    "executionInfo": {
     "elapsed": 3,
     "status": "ok",
     "timestamp": 1745424859998,
     "user": {
      "displayName": "ICTD IITD",
      "userId": "11419946949516230456"
     },
     "user_tz": -330
    },
    "id": "gh_u6onQtvpB"
   },
   "outputs": [],
   "source": [
    "# !git clone https://github.com/SNL-UCSB/netFound.git"
   ]
  },
  {
   "cell_type": "code",
   "execution_count": null,
   "metadata": {
    "colab": {
     "base_uri": "https://localhost:8080/"
    },
    "collapsed": true,
    "executionInfo": {
     "elapsed": 239,
     "status": "ok",
     "timestamp": 1745424860236,
     "user": {
      "displayName": "ICTD IITD",
      "userId": "11419946949516230456"
     },
     "user_tz": -330
    },
    "id": "loIoyFmnt68R",
    "outputId": "d0483e26-5bb7-4085-d059-8e54a27c03dd"
   },
   "outputs": [],
   "source": [
    "cd netFound"
   ]
  },
  {
   "cell_type": "code",
   "execution_count": null,
   "metadata": {
    "colab": {
     "base_uri": "https://localhost:8080/"
    },
    "executionInfo": {
     "elapsed": 21303,
     "status": "ok",
     "timestamp": 1745424881544,
     "user": {
      "displayName": "ICTD IITD",
      "userId": "11419946949516230456"
     },
     "user_tz": -330
    },
    "id": "TXK0vY6EtdLN",
    "outputId": "2749c155-2d47-478e-83e2-9da3c301c258"
   },
   "outputs": [],
   "source": [
    "!apt-get update && apt-get upgrade -y\n",
    "!apt-get install -y --no-install-recommends gcc python3-dev wget graphviz parallel nano make cmake g++ libpcap-dev"
   ]
  },
  {
   "cell_type": "code",
   "execution_count": null,
   "metadata": {
    "colab": {
     "base_uri": "https://localhost:8080/"
    },
    "executionInfo": {
     "elapsed": 13163,
     "status": "ok",
     "timestamp": 1745424894713,
     "user": {
      "displayName": "ICTD IITD",
      "userId": "11419946949516230456"
     },
     "user_tz": -330
    },
    "id": "PNLTEBpIuPVE",
    "outputId": "574a2a6c-01cd-499f-d785-ffd5cbbe620a"
   },
   "outputs": [],
   "source": [
    "!pip install --no-cache-dir -r requirements.txt"
   ]
  },
  {
   "cell_type": "code",
   "execution_count": null,
   "metadata": {
    "executionInfo": {
     "elapsed": 100,
     "status": "ok",
     "timestamp": 1745424894820,
     "user": {
      "displayName": "ICTD IITD",
      "userId": "11419946949516230456"
     },
     "user_tz": -330
    },
    "id": "OErwIeduk8mP"
   },
   "outputs": [],
   "source": [
    "!rm -rf '/usr/local/pcapplusplus-24.09-ubuntu-22.04-gcc-11.4.0-x86_64'"
   ]
  },
  {
   "cell_type": "code",
   "execution_count": null,
   "metadata": {
    "colab": {
     "base_uri": "https://localhost:8080/"
    },
    "executionInfo": {
     "elapsed": 2933,
     "status": "ok",
     "timestamp": 1745424897757,
     "user": {
      "displayName": "ICTD IITD",
      "userId": "11419946949516230456"
     },
     "user_tz": -330
    },
    "id": "HUFZjnRWuYDs",
    "outputId": "d76a1ce5-03d2-4e4d-b9ee-4e93af47dfa7"
   },
   "outputs": [],
   "source": [
    "!wget https://github.com/seladb/PcapPlusPlus/releases/download/v24.09/pcapplusplus-24.09-ubuntu-22.04-gcc-11.4.0-x86_64.tar.gz\n",
    "!tar -xvf pcapplusplus-24.09-ubuntu-22.04-gcc-11.4.0-x86_64.tar.gz\n",
    "!rm pcapplusplus-24.09-ubuntu-22.04-gcc-11.4.0-x86_64.tar.gz\n",
    "!mv pcapplusplus-24.09-ubuntu-22.04-gcc-11.4.0-x86_64 /usr/local/\n",
    "!ln -s /usr/local/pcapplusplus-24.09-ubuntu-22.04-gcc-11.4.0-x86_64 /usr/local/pcapplusplus"
   ]
  },
  {
   "cell_type": "code",
   "execution_count": null,
   "metadata": {
    "executionInfo": {
     "elapsed": 37,
     "status": "ok",
     "timestamp": 1745424897795,
     "user": {
      "displayName": "ICTD IITD",
      "userId": "11419946949516230456"
     },
     "user_tz": -330
    },
    "id": "Yx8ndZ2Cu-df"
   },
   "outputs": [],
   "source": [
    "import os\n",
    "os.environ[\"PATH\"] += os.pathsep + \"/usr/local/pcapplusplus/bin\""
   ]
  },
  {
   "cell_type": "code",
   "execution_count": null,
   "metadata": {
    "colab": {
     "base_uri": "https://localhost:8080/"
    },
    "executionInfo": {
     "elapsed": 41134,
     "status": "ok",
     "timestamp": 1745424938930,
     "user": {
      "displayName": "ICTD IITD",
      "userId": "11419946949516230456"
     },
     "user_tz": -330
    },
    "id": "H7RDQQ7ItWwV",
    "outputId": "c8c0367d-1519-403d-8712-05587c068b46"
   },
   "outputs": [],
   "source": [
    "!find . -type f -name \"*.sh\""
   ]
  },
  {
   "cell_type": "code",
   "execution_count": null,
   "metadata": {
    "executionInfo": {
     "elapsed": 483,
     "status": "ok",
     "timestamp": 1745424939408,
     "user": {
      "displayName": "ICTD IITD",
      "userId": "11419946949516230456"
     },
     "user_tz": -330
    },
    "id": "xSl4IOqxtbVg"
   },
   "outputs": [],
   "source": [
    "!chmod +x ./scripts/finetune-test.sh\n",
    "!chmod +x ./scripts/pretrain-test.sh\n",
    "!chmod +x ./src/pre_process/1_filter.sh\n",
    "!chmod +x ./src/pre_process/2_pcap_splitting.sh\n",
    "!chmod +x ./src/pre_process/3_extract_fields.sh"
   ]
  },
  {
   "cell_type": "code",
   "execution_count": null,
   "metadata": {
    "executionInfo": {
     "elapsed": 41,
     "status": "ok",
     "timestamp": 1745424939451,
     "user": {
      "displayName": "ICTD IITD",
      "userId": "11419946949516230456"
     },
     "user_tz": -330
    },
    "id": "taf6U0FivGpO"
   },
   "outputs": [],
   "source": [
    "PREPROCESS_SRC_DIR = \"src/pre_process/packets_processing_src\"\n",
    "PREPROCESS_BUILD_DIR = \"build/preprocess\"\n",
    "DATA_DIR = \"data/test\""
   ]
  },
  {
   "cell_type": "code",
   "execution_count": null,
   "metadata": {
    "executionInfo": {
     "elapsed": 482,
     "status": "ok",
     "timestamp": 1745424939934,
     "user": {
      "displayName": "ICTD IITD",
      "userId": "11419946949516230456"
     },
     "user_tz": -330
    },
    "id": "f7OD1b-bvGmX"
   },
   "outputs": [],
   "source": [
    "!rm -rf {PREPROCESS_BUILD_DIR}\n",
    "!rm -f src/pre_process/1_filter\n",
    "!rm -f src/pre_process/3_field_extraction\n",
    "!rm -rf {DATA_DIR}/pretraining/split {DATA_DIR}/pretraining/filtered {DATA_DIR}/pretraining/extracted {DATA_DIR}/pretraining/final\n",
    "!rm -rf {DATA_DIR}/finetuning/split {DATA_DIR}/finetuning/filtered {DATA_DIR}/finetuning/extracted {DATA_DIR}/finetuning/final"
   ]
  },
  {
   "cell_type": "code",
   "execution_count": null,
   "metadata": {
    "executionInfo": {
     "elapsed": 88,
     "status": "ok",
     "timestamp": 1745424940024,
     "user": {
      "displayName": "ICTD IITD",
      "userId": "11419946949516230456"
     },
     "user_tz": -330
    },
    "id": "MviMdaSTvGjb"
   },
   "outputs": [],
   "source": [
    "!mkdir -p {PREPROCESS_BUILD_DIR}"
   ]
  },
  {
   "cell_type": "code",
   "execution_count": null,
   "metadata": {
    "colab": {
     "base_uri": "https://localhost:8080/"
    },
    "executionInfo": {
     "elapsed": 5823,
     "status": "ok",
     "timestamp": 1745424945854,
     "user": {
      "displayName": "ICTD IITD",
      "userId": "11419946949516230456"
     },
     "user_tz": -330
    },
    "id": "d2OiLMXcvGgX",
    "outputId": "e44437ab-5f4f-48d9-af5a-005cca639413"
   },
   "outputs": [],
   "source": [
    "!cmake -S {PREPROCESS_SRC_DIR} -B {PREPROCESS_BUILD_DIR}"
   ]
  },
  {
   "cell_type": "code",
   "execution_count": null,
   "metadata": {
    "colab": {
     "base_uri": "https://localhost:8080/"
    },
    "executionInfo": {
     "elapsed": 4413,
     "status": "ok",
     "timestamp": 1745424950276,
     "user": {
      "displayName": "ICTD IITD",
      "userId": "11419946949516230456"
     },
     "user_tz": -330
    },
    "id": "vzpzAfrqvGc_",
    "outputId": "15a968f7-2a41-4b69-e82c-9121e9b94ab0"
   },
   "outputs": [],
   "source": [
    "!make -C {PREPROCESS_BUILD_DIR}"
   ]
  },
  {
   "cell_type": "code",
   "execution_count": null,
   "metadata": {
    "executionInfo": {
     "elapsed": 113,
     "status": "ok",
     "timestamp": 1745424950391,
     "user": {
      "displayName": "ICTD IITD",
      "userId": "11419946949516230456"
     },
     "user_tz": -330
    },
    "id": "d6rCzmclwHrx"
   },
   "outputs": [],
   "source": [
    "!cp {PREPROCESS_BUILD_DIR}/1_filter src/pre_process/1_filter"
   ]
  },
  {
   "cell_type": "code",
   "execution_count": null,
   "metadata": {
    "executionInfo": {
     "elapsed": 97,
     "status": "ok",
     "timestamp": 1745424950490,
     "user": {
      "displayName": "ICTD IITD",
      "userId": "11419946949516230456"
     },
     "user_tz": -330
    },
    "id": "hYu7u5PKwG8-"
   },
   "outputs": [],
   "source": [
    "!cp {PREPROCESS_BUILD_DIR}/3_field_extraction src/pre_process/3_field_extraction"
   ]
  },
  {
   "cell_type": "code",
   "execution_count": null,
   "metadata": {
    "executionInfo": {
     "elapsed": 207,
     "status": "ok",
     "timestamp": 1745424950804,
     "user": {
      "displayName": "ICTD IITD",
      "userId": "11419946949516230456"
     },
     "user_tz": -330
    },
    "id": "fJ4pBIdMwtq4"
   },
   "outputs": [],
   "source": [
    "!chmod +x src/pre_process/1_filter\n",
    "!chmod +x src/pre_process/3_field_extraction"
   ]
  },
  {
   "cell_type": "markdown",
   "metadata": {
    "id": "8-Z2YanwZcDe"
   },
   "source": [
    "# For Pretraining"
   ]
  },
  {
   "cell_type": "code",
   "execution_count": null,
   "metadata": {
    "colab": {
     "base_uri": "https://localhost:8080/"
    },
    "executionInfo": {
     "elapsed": 68,
     "status": "ok",
     "timestamp": 1745423537629,
     "user": {
      "displayName": "ICTD IITD",
      "userId": "11419946949516230456"
     },
     "user_tz": -330
    },
    "id": "SyfUCeopXKA2",
    "outputId": "df68e8da-7b64-4790-a5ff-5f5d87da7552"
   },
   "outputs": [],
   "source": [
    "!mkdir {DATA_DIR}/pretraining/raw/0"
   ]
  },
  {
   "cell_type": "code",
   "execution_count": null,
   "metadata": {
    "colab": {
     "base_uri": "https://localhost:8080/"
    },
    "executionInfo": {
     "elapsed": 103,
     "status": "ok",
     "timestamp": 1745423537733,
     "user": {
      "displayName": "ICTD IITD",
      "userId": "11419946949516230456"
     },
     "user_tz": -330
    },
    "id": "GF55IgGXW_m1",
    "outputId": "e852cb3d-e5d9-49ba-95bb-1d9e62f75ad0"
   },
   "outputs": [],
   "source": [
    "!mv {DATA_DIR}/pretraining/raw/*/*.pcap {DATA_DIR}/pretraining/raw/complete"
   ]
  },
  {
   "cell_type": "code",
   "execution_count": null,
   "metadata": {
    "colab": {
     "base_uri": "https://localhost:8080/"
    },
    "executionInfo": {
     "elapsed": 99,
     "status": "ok",
     "timestamp": 1745423537840,
     "user": {
      "displayName": "ICTD IITD",
      "userId": "11419946949516230456"
     },
     "user_tz": -330
    },
    "id": "b6yAHvMgYbfx",
    "outputId": "737ec6bc-ab6f-47b2-81ea-acbed1e702f4"
   },
   "outputs": [],
   "source": [
    "!ls {DATA_DIR}/pretraining/raw/"
   ]
  },
  {
   "cell_type": "code",
   "execution_count": null,
   "metadata": {
    "colab": {
     "base_uri": "https://localhost:8080/"
    },
    "collapsed": true,
    "executionInfo": {
     "elapsed": 152281,
     "status": "ok",
     "timestamp": 1745423690140,
     "user": {
      "displayName": "ICTD IITD",
      "userId": "11419946949516230456"
     },
     "user_tz": -330
    },
    "id": "OadcCJcIXinR",
    "outputId": "0fd51510-24d1-4c85-d592-b69fcb7ffaac"
   },
   "outputs": [],
   "source": [
    "!python3 scripts/preprocess_data.py --input_folder {DATA_DIR}/pretraining --action pretrain --tokenizer_config configs/TestPretrainingConfig.json --combined"
   ]
  },
  {
   "cell_type": "markdown",
   "metadata": {
    "id": "caNOTSliZkRQ"
   },
   "source": [
    "# For Finetuning"
   ]
  },
  {
   "cell_type": "code",
   "execution_count": null,
   "metadata": {
    "executionInfo": {
     "elapsed": 1,
     "status": "ok",
     "timestamp": 1745424950847,
     "user": {
      "displayName": "ICTD IITD",
      "userId": "11419946949516230456"
     },
     "user_tz": -330
    },
    "id": "6WIaaCl4W_OV"
   },
   "outputs": [],
   "source": [
    "import shutil\n",
    "import os"
   ]
  },
  {
   "cell_type": "code",
   "execution_count": null,
   "metadata": {
    "executionInfo": {
     "elapsed": 16,
     "status": "ok",
     "timestamp": 1745424950868,
     "user": {
      "displayName": "ICTD IITD",
      "userId": "11419946949516230456"
     },
     "user_tz": -330
    },
    "id": "ycqXLNE0aQtG"
   },
   "outputs": [],
   "source": [
    "pcap_names = os.listdir(f\"{DATA_DIR}/finetuning/raw/0\")\n",
    "for i in range(len(pcap_names)):\n",
    "    os.mkdir(f\"{DATA_DIR}/finetuning/raw/{i}\")\n",
    "    shutil.move(f\"{DATA_DIR}/pretraining/raw/0/{pcap_names[i]}\", f\"{DATA_DIR}/finetuning/raw/{i}/{pcap_names[i]}\")"
   ]
  },
  {
   "cell_type": "code",
   "execution_count": null,
   "metadata": {
    "colab": {
     "base_uri": "https://localhost:8080/"
    },
    "executionInfo": {
     "elapsed": 119,
     "status": "ok",
     "timestamp": 1745424975723,
     "user": {
      "displayName": "ICTD IITD",
      "userId": "11419946949516230456"
     },
     "user_tz": -330
    },
    "id": "ISCcJlFIbSLI",
    "outputId": "8a2e7155-fad4-4135-9ba1-3778e3eaa94d"
   },
   "outputs": [],
   "source": [
    "!ls {DATA_DIR}/finetuning/raw/*"
   ]
  },
  {
   "cell_type": "code",
   "execution_count": null,
   "metadata": {
    "colab": {
     "base_uri": "https://localhost:8080/"
    },
    "executionInfo": {
     "elapsed": 134646,
     "status": "ok",
     "timestamp": 1745425116427,
     "user": {
      "displayName": "ICTD IITD",
      "userId": "11419946949516230456"
     },
     "user_tz": -330
    },
    "id": "AEhLGWEKalN8",
    "outputId": "498f587a-3578-462e-c746-d17480ef5983"
   },
   "outputs": [],
   "source": [
    "!python3 ./scripts/preprocess_data.py --input_folder {DATA_DIR}/finetuning --action finetune --tokenizer_config configs/TestFinetuningConfig.json --combined"
   ]
  },
  {
   "cell_type": "code",
   "execution_count": null,
   "metadata": {
    "colab": {
     "base_uri": "https://localhost:8080/"
    },
    "executionInfo": {
     "elapsed": 103,
     "status": "ok",
     "timestamp": 1745425360370,
     "user": {
      "displayName": "ICTD IITD",
      "userId": "11419946949516230456"
     },
     "user_tz": -330
    },
    "id": "HiyZnAP5cIZG",
    "outputId": "65aeb779-2ec4-495c-d13a-d299fe7f4777"
   },
   "outputs": [],
   "source": [
    "!ls {DATA_DIR}/finetuning/final/*"
   ]
  }
 ],
 "metadata": {
  "accelerator": "TPU",
  "colab": {
   "collapsed_sections": [
    "ltOEFDwhZ4Ne"
   ],
   "gpuType": "V28",
   "machine_shape": "hm",
   "provenance": []
  },
  "kernelspec": {
   "display_name": "Python 3",
   "name": "python3"
  },
  "language_info": {
   "name": "python"
  }
 },
 "nbformat": 4,
 "nbformat_minor": 0
}
